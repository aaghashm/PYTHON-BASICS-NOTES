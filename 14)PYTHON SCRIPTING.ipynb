{
 "cells": [
  {
   "cell_type": "markdown",
   "id": "63749398",
   "metadata": {},
   "source": [
    "# O.S LIBRARY (Operating System)"
   ]
  },
  {
   "cell_type": "markdown",
   "id": "959b1ba9",
   "metadata": {},
   "source": [
    "# CURRENT WORKING DIRECTORY --->  os.getcwd()"
   ]
  },
  {
   "cell_type": "code",
   "execution_count": 7,
   "id": "eade0e82",
   "metadata": {},
   "outputs": [
    {
     "name": "stdout",
     "output_type": "stream",
     "text": [
      "C:\\Users\\aagha\\Desktop\\python\n"
     ]
    }
   ],
   "source": [
    "import os\n",
    "\n",
    "def current():\n",
    "    c=os.getcwd()   #os.getcwd() --> this is used to get current working directory\n",
    "    print(c)\n",
    "    \n",
    "current()    "
   ]
  },
  {
   "cell_type": "markdown",
   "id": "51ac64e3",
   "metadata": {},
   "source": [
    "# path of a file ---> os.path.abspath(filename)\n"
   ]
  },
  {
   "cell_type": "code",
   "execution_count": 12,
   "id": "662f0c17",
   "metadata": {},
   "outputs": [
    {
     "name": "stdout",
     "output_type": "stream",
     "text": [
      "C:\\Users\\aagha\\Desktop\\python\\this is file\n"
     ]
    }
   ],
   "source": [
    "import os\n",
    "\n",
    "def path(filename):\n",
    "    c=os.path.abspath(filename) #abspath indicates abosolute path\n",
    "\n",
    "    print(c)\n",
    "    \n",
    "filename=\"this is file\"\n",
    "path(filename)\n"
   ]
  },
  {
   "cell_type": "markdown",
   "id": "b55dfc4c",
   "metadata": {},
   "source": [
    "# time module"
   ]
  },
  {
   "cell_type": "code",
   "execution_count": 28,
   "id": "b429400d",
   "metadata": {},
   "outputs": [
    {
     "name": "stdout",
     "output_type": "stream",
     "text": [
      "1660288158.5487359\n",
      "###########function of time.localtime\n",
      "time.struct_time(tm_year=2022, tm_mon=8, tm_mday=12, tm_hour=12, tm_min=39, tm_sec=18, tm_wday=4, tm_yday=224, tm_isdst=0)\n",
      "18\n"
     ]
    }
   ],
   "source": [
    "import time\n",
    "\n",
    "t=time.time() #seconds passed from 1.1.1970 till now --> epoch time \n",
    "print(t)\n",
    "\n"
   ]
  },
  {
   "cell_type": "markdown",
   "id": "2b89a4b5",
   "metadata": {},
   "source": [
    "###### time.localtime(t) ---> to get time in our place"
   ]
  },
  {
   "cell_type": "code",
   "execution_count": 29,
   "id": "a73aa3e3",
   "metadata": {},
   "outputs": [
    {
     "name": "stdout",
     "output_type": "stream",
     "text": [
      "time.struct_time(tm_year=2022, tm_mon=8, tm_mday=12, tm_hour=12, tm_min=39, tm_sec=18, tm_wday=4, tm_yday=224, tm_isdst=0)\n"
     ]
    }
   ],
   "source": [
    "import time\n",
    "\n",
    "t=time.time()\n",
    "\n",
    "localtime=time.localtime(t)   \n",
    "print(localtime)"
   ]
  },
  {
   "cell_type": "markdown",
   "id": "1873b38b",
   "metadata": {},
   "source": [
    "###### print current time,year,etc,., ------>>   localtime.tm_year  (or)    localtime.tm_sec  (or) etc..,"
   ]
  },
  {
   "cell_type": "code",
   "execution_count": 31,
   "id": "9b09b31a",
   "metadata": {},
   "outputs": [
    {
     "name": "stdout",
     "output_type": "stream",
     "text": [
      "2022\n",
      "12\n",
      "39\n",
      "18\n"
     ]
    }
   ],
   "source": [
    "import time\n",
    "\n",
    "t=time.time()\n",
    "\n",
    "print(localtime.tm_year)      #to print current year\n",
    "print(localtime.tm_hour)     #to print current hour\n",
    "print(localtime.tm_min)\n",
    "print(localtime.tm_sec)\n"
   ]
  },
  {
   "cell_type": "markdown",
   "id": "1be2bfeb",
   "metadata": {},
   "source": [
    "###### to print current time in a very formatted way --->  time.ctime(epochtime)            ------->  epochtime=time.time()"
   ]
  },
  {
   "cell_type": "code",
   "execution_count": 32,
   "id": "992f1de1",
   "metadata": {},
   "outputs": [
    {
     "name": "stdout",
     "output_type": "stream",
     "text": [
      "Fri Aug 12 12:43:23 2022\n"
     ]
    }
   ],
   "source": [
    "import time\n",
    "t=time.time()\n",
    "print(time.ctime(t))  "
   ]
  },
  {
   "cell_type": "markdown",
   "id": "cd133b2e",
   "metadata": {},
   "source": [
    "# smtp library"
   ]
  },
  {
   "cell_type": "markdown",
   "id": "9c499bf8",
   "metadata": {},
   "source": [
    "### smtp-->simple mail transfer protocol ---> for mails"
   ]
  },
  {
   "cell_type": "markdown",
   "id": "38b16508",
   "metadata": {},
   "source": [
    "### use app password"
   ]
  },
  {
   "cell_type": "code",
   "execution_count": 61,
   "id": "29f49a8a",
   "metadata": {},
   "outputs": [
    {
     "name": "stdout",
     "output_type": "stream",
     "text": [
      "email sent sucessfully\n"
     ]
    }
   ],
   "source": [
    "import smtplib\n",
    "\n",
    "a=smtplib.SMTP('smtp.gmail.com',587)   #587 is port code for gmail  #if yahoo-->'smtp.yahoo.com'\n",
    "a.ehlo()  #this is for connection #basically,hello\n",
    "a.starttls() #important line\n",
    "a.login(\"aaghashm@gmail.com\",\"yuoe kxeb ghdu tqwy\")\n",
    "a.sendmail('aaghashm@gmail.com','kumaranstr64@gmail.com',\"subject:THIS IS A PYTHON TEST \\n\\n im sending email through python \\nALL THE BEST FOR YOUR FUTURE DA!\")\n",
    "a.quit()\n",
    "\n",
    "\n",
    "print('email sent sucessfully')"
   ]
  },
  {
   "cell_type": "code",
   "execution_count": 14,
   "id": "cbcbea0d",
   "metadata": {},
   "outputs": [
    {
     "name": "stdout",
     "output_type": "stream",
     "text": [
      "enter you domain (gmail (or)mail.yahoogmail\n",
      "enter your email idaaghashm@gmail.com\n",
      "enter your passwordyuoe kxeb ghdu tqwy\n",
      "enter senders emailajjeyjack@gmail.com\n",
      "enter your subjectdei naa python kathukuren\n",
      "enter your bodythis is to inform you noting personal,purely profession, vaazhga captain jack sparrow\n",
      "email sent sucessfully\n"
     ]
    }
   ],
   "source": [
    "\n",
    "import smtplib\n",
    "\n",
    "x=input(\"enter you domain (gmail (or)mail.yahoo\")\n",
    "e=input(\"enter your email id\")\n",
    "p=input('enter your password')\n",
    "y=input('enter senders email')\n",
    "a=input('enter your subject')\n",
    "b=input('enter your body')\n",
    "\n",
    "a=smtplib.SMTP('smtp.%s.com'%x,587)\n",
    "a.ehlo()\n",
    "a.starttls()\n",
    "a.login(e,p)\n",
    "a.sendmail(x,y,\"subject:%s \\n\\n %s\"%(a,b))\n",
    "a.quit()\n",
    "\n",
    "print('email sent sucessfully')\n",
    "\n"
   ]
  },
  {
   "cell_type": "markdown",
   "id": "895987bb",
   "metadata": {},
   "source": [
    "# creating a file using python"
   ]
  },
  {
   "cell_type": "code",
   "execution_count": 51,
   "id": "2945ee45",
   "metadata": {},
   "outputs": [
    {
     "name": "stdout",
     "output_type": "stream",
     "text": [
      "file created sucessfully\n"
     ]
    }
   ],
   "source": [
    "import io   #io function is used here\n",
    "\n",
    "def createfile(dest):  #dest is the path\n",
    "    if not(path.isfile(dest)): # --> if file already pesent, this part wont happen,so file wont be created   #if we remove it, file already present will be overwriiten\n",
    "        f=io.open(dest,'w')  #w function is used to write in the file  \n",
    "        f.write('welcome to python programming \\n\\nThe io function is used to acess inbuilt open function \\n\\ndont use os function here')\n",
    "        f.close()\n",
    "        print('file created sucessfully') #im using it here to see if the code bhas actually run\n",
    "        \n",
    "dest=r'C:\\Users\\aagha\\Desktop\\python\\sample.txt'\n",
    "\n",
    "createfile(dest)\n",
    "    \n",
    "    \n",
    "    "
   ]
  },
  {
   "cell_type": "markdown",
   "id": "c2eac6c2",
   "metadata": {},
   "source": [
    "# using ARGS"
   ]
  },
  {
   "cell_type": "markdown",
   "id": "126b4510",
   "metadata": {},
   "source": [
    "###### if we want to print single number"
   ]
  },
  {
   "cell_type": "code",
   "execution_count": 75,
   "id": "9ff4e69f",
   "metadata": {},
   "outputs": [
    {
     "name": "stdout",
     "output_type": "stream",
     "text": [
      "20\n"
     ]
    }
   ],
   "source": [
    "def num1(i):\n",
    "    print(i)\n",
    "    \n",
    "num1(20)"
   ]
  },
  {
   "cell_type": "markdown",
   "id": "1426581b",
   "metadata": {},
   "source": [
    "###### if we give more than 1 value for i , it considers it as list"
   ]
  },
  {
   "cell_type": "code",
   "execution_count": 74,
   "id": "2a18ee55",
   "metadata": {},
   "outputs": [
    {
     "ename": "TypeError",
     "evalue": "num1() takes 1 positional argument but 3 were given",
     "output_type": "error",
     "traceback": [
      "\u001b[1;31m---------------------------------------------------------------------------\u001b[0m",
      "\u001b[1;31mTypeError\u001b[0m                                 Traceback (most recent call last)",
      "Input \u001b[1;32mIn [74]\u001b[0m, in \u001b[0;36m<cell line: 5>\u001b[1;34m()\u001b[0m\n\u001b[0;32m      1\u001b[0m \u001b[38;5;28;01mdef\u001b[39;00m \u001b[38;5;21mnum1\u001b[39m(i):\n\u001b[0;32m      2\u001b[0m     \u001b[38;5;28mprint\u001b[39m(i)\n\u001b[1;32m----> 5\u001b[0m \u001b[43mnum1\u001b[49m\u001b[43m(\u001b[49m\u001b[38;5;241;43m20\u001b[39;49m\u001b[43m,\u001b[49m\u001b[38;5;241;43m40\u001b[39;49m\u001b[43m,\u001b[49m\u001b[38;5;241;43m60\u001b[39;49m\u001b[43m)\u001b[49m\n",
      "\u001b[1;31mTypeError\u001b[0m: num1() takes 1 positional argument but 3 were given"
     ]
    }
   ],
   "source": [
    "def num1(i):\n",
    "    print(i)\n",
    "    \n",
    "\n",
    "num1(20,40,60)"
   ]
  },
  {
   "cell_type": "markdown",
   "id": "3cc0f094",
   "metadata": {},
   "source": [
    "###### to solve albove problems,we are using args.\n",
    "###### *args accepts multiple values"
   ]
  },
  {
   "cell_type": "code",
   "execution_count": 78,
   "id": "424bf05b",
   "metadata": {},
   "outputs": [
    {
     "name": "stdout",
     "output_type": "stream",
     "text": [
      "10\n",
      "20\n",
      "30\n",
      "40\n",
      "50\n"
     ]
    }
   ],
   "source": [
    "def num1(*args):     # *args is used TO TAKE NUMBER OF VARIABLES\n",
    "    for i in args:\n",
    "        print(i)\n",
    "        \n",
    "num1(10,20,30,40,50)"
   ]
  },
  {
   "cell_type": "markdown",
   "id": "1daf92cc",
   "metadata": {},
   "source": [
    "## KWARGS FUNCTION"
   ]
  },
  {
   "cell_type": "markdown",
   "id": "6a3c372c",
   "metadata": {},
   "source": [
    "###### IT IS FOLLOWED BY **"
   ]
  },
  {
   "cell_type": "markdown",
   "id": "2b587576",
   "metadata": {},
   "source": [
    "###### IT IS USED TO ASSIGN LABLES(OR)NAMES FOR MULTIPLE VARIABLES"
   ]
  },
  {
   "cell_type": "code",
   "execution_count": 86,
   "id": "226ce6d2",
   "metadata": {},
   "outputs": [
    {
     "name": "stdout",
     "output_type": "stream",
     "text": [
      "('a', 10)\n",
      "('b', 20)\n",
      "('c', 30)\n"
     ]
    }
   ],
   "source": [
    "def num1(*args,**kwargs):\n",
    "    for i in kwargs.items():  #kwargs.items  --> .items is important(shows erroe if not included) #it is to extract every items in kwargs\n",
    "        print(i)\n",
    "        \n",
    "num1(a=10,b=20,c=30)        \n",
    "        \n",
    "        "
   ]
  },
  {
   "cell_type": "markdown",
   "id": "c3a06b03",
   "metadata": {},
   "source": [
    "# nested functions"
   ]
  },
  {
   "cell_type": "code",
   "execution_count": 92,
   "id": "442c05d8",
   "metadata": {},
   "outputs": [
    {
     "data": {
      "text/plain": [
       "6"
      ]
     },
     "execution_count": 92,
     "metadata": {},
     "output_type": "execute_result"
    }
   ],
   "source": [
    "def func1():\n",
    "    x=5\n",
    "    def funct2(x):#it is nested under 1  \n",
    "        return x+1 #funct2 gives this value to func1\n",
    "    \n",
    "    return funct2(x)  #it gives us the value what funct2 gives to funct1\n",
    "func1()"
   ]
  },
  {
   "cell_type": "markdown",
   "id": "4ace45d9",
   "metadata": {},
   "source": [
    "# calling all functions through 1 obj"
   ]
  },
  {
   "cell_type": "code",
   "execution_count": 117,
   "id": "6351ca55",
   "metadata": {},
   "outputs": [
    {
     "name": "stdout",
     "output_type": "stream",
     "text": [
      "this is the first function\n",
      "this is the nested function\n",
      "this is the outer function\n"
     ]
    }
   ],
   "source": [
    "def func1(called):\n",
    "    print(\"this is the first function\")\n",
    "    \n",
    "    def func2(called):\n",
    "        print('this is the nested function')\n",
    "        called()    #this line prints the called variable which we will assign\n",
    "    return func2(called)\n",
    "    \n",
    "def func3():\n",
    "        print(\"this is the outer function\")\n",
    "    \n",
    "obj = func1(func3)   #here, called variable is assingned value of FUNC3"
   ]
  },
  {
   "cell_type": "code",
   "execution_count": 2,
   "id": "3e12d976",
   "metadata": {},
   "outputs": [
    {
     "name": "stdout",
     "output_type": "stream",
     "text": [
      "this is the first function\n",
      "this is the nested function\n",
      "this is the outer function\n"
     ]
    }
   ],
   "source": [
    "def func1(called):\n",
    "    print(\"this is the first function\")\n",
    "    \n",
    "    def func2(called):\n",
    "        print('this is the nested function')\n",
    "        called()    #this line prints the called variable which we will assign\n",
    "    return func2(called)\n",
    "\n",
    "@func1  \n",
    "\n",
    "def func3():\n",
    "        print(\"this is the outer function\")\n",
    "        \n"
   ]
  },
  {
   "cell_type": "markdown",
   "id": "64dba44c",
   "metadata": {},
   "source": [
    "# Factory"
   ]
  },
  {
   "cell_type": "markdown",
   "id": "c766a263",
   "metadata": {},
   "source": [
    "#### creating classes at runtime"
   ]
  },
  {
   "cell_type": "markdown",
   "id": "839d0857",
   "metadata": {},
   "source": [
    "#### class = type('class name',(mother of this class,),{list of attributes})"
   ]
  },
  {
   "cell_type": "code",
   "execution_count": 11,
   "id": "58f363c3",
   "metadata": {},
   "outputs": [
    {
     "name": "stdout",
     "output_type": "stream",
     "text": [
      "10\n",
      "20\n"
     ]
    }
   ],
   "source": [
    "b=type('mainclass',(object,),{})\n",
    "c1=type('subclass1',(b,),{\"num\":10})\n",
    "c2=type('subclass2',(b,),{'num':20})\n",
    "\n",
    "def callclass(tool):\n",
    "    if tool<10:\n",
    "        return c1()\n",
    "\n",
    "    else:\n",
    "        return c2()\n",
    "    \n",
    "print(callclass(5).num)\n",
    "print(callclass(15).num)\n"
   ]
  },
  {
   "cell_type": "code",
   "execution_count": null,
   "id": "755b1a72",
   "metadata": {},
   "outputs": [],
   "source": []
  }
 ],
 "metadata": {
  "kernelspec": {
   "display_name": "Python 3 (ipykernel)",
   "language": "python",
   "name": "python3"
  },
  "language_info": {
   "codemirror_mode": {
    "name": "ipython",
    "version": 3
   },
   "file_extension": ".py",
   "mimetype": "text/x-python",
   "name": "python",
   "nbconvert_exporter": "python",
   "pygments_lexer": "ipython3",
   "version": "3.9.12"
  }
 },
 "nbformat": 4,
 "nbformat_minor": 5
}
