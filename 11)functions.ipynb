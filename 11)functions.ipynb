{
 "cells": [
  {
   "cell_type": "code",
   "execution_count": 1,
   "id": "420d8b44",
   "metadata": {},
   "outputs": [],
   "source": [
    "def welcome():        #() is must        #def is definition   #welcome is function name-- it is a variable\n",
    "    print(\"good morning\")     #body contains what a function will do"
   ]
  },
  {
   "cell_type": "code",
   "execution_count": 2,
   "id": "981b091a",
   "metadata": {},
   "outputs": [
    {
     "name": "stdout",
     "output_type": "stream",
     "text": [
      "good morning\n"
     ]
    }
   ],
   "source": [
    "welcome()"
   ]
  },
  {
   "cell_type": "code",
   "execution_count": 7,
   "id": "3db02de4",
   "metadata": {},
   "outputs": [],
   "source": [
    "def add(a,b):  #a and b hold variables\n",
    "    total=a+b\n",
    "    print(\"a:%d    b:%d\"%(a,b))\n",
    "    print(\"the sum is  :\",total)"
   ]
  },
  {
   "cell_type": "code",
   "execution_count": 8,
   "id": "9a61dafd",
   "metadata": {},
   "outputs": [
    {
     "name": "stdout",
     "output_type": "stream",
     "text": [
      "a:3    b:5\n",
      "the sum is  : 8\n"
     ]
    }
   ],
   "source": [
    "add(3,5)"
   ]
  },
  {
   "cell_type": "code",
   "execution_count": 9,
   "id": "0df5f233",
   "metadata": {},
   "outputs": [
    {
     "name": "stdout",
     "output_type": "stream",
     "text": [
      "a:2    b:3\n",
      "the sum is  : 5\n"
     ]
    }
   ],
   "source": [
    "x=2     \n",
    "y=3\n",
    "add(x,y)    #here x is stored in a and y is stored in b    #these are position dependent"
   ]
  },
  {
   "cell_type": "code",
   "execution_count": 11,
   "id": "20e232cb",
   "metadata": {},
   "outputs": [
    {
     "name": "stdout",
     "output_type": "stream",
     "text": [
      "a:20    b:10\n",
      "the sum is  : 30\n"
     ]
    }
   ],
   "source": [
    "add(b=10,a=20) #to make it position change"
   ]
  },
  {
   "cell_type": "code",
   "execution_count": 12,
   "id": "479f5de5",
   "metadata": {},
   "outputs": [
    {
     "ename": "TypeError",
     "evalue": "add() missing 1 required positional argument: 'b'",
     "output_type": "error",
     "traceback": [
      "\u001b[1;31m---------------------------------------------------------------------------\u001b[0m",
      "\u001b[1;31mTypeError\u001b[0m                                 Traceback (most recent call last)",
      "Input \u001b[1;32mIn [12]\u001b[0m, in \u001b[0;36m<cell line: 1>\u001b[1;34m()\u001b[0m\n\u001b[1;32m----> 1\u001b[0m \u001b[43madd\u001b[49m\u001b[43m(\u001b[49m\u001b[38;5;241;43m10\u001b[39;49m\u001b[43m)\u001b[49m\n",
      "\u001b[1;31mTypeError\u001b[0m: add() missing 1 required positional argument: 'b'"
     ]
    }
   ],
   "source": [
    "add(10)"
   ]
  },
  {
   "cell_type": "markdown",
   "id": "a6804c34",
   "metadata": {},
   "source": [
    "# if we dont want above error:"
   ]
  },
  {
   "cell_type": "code",
   "execution_count": 9,
   "id": "3851d543",
   "metadata": {},
   "outputs": [],
   "source": [
    "def add(a=0,b=0):\n",
    "    total=a+b\n",
    "    print (\" a:%d   b:%d\"%(a,b))\n",
    "    print(\"the sum is  :\",total)"
   ]
  },
  {
   "cell_type": "code",
   "execution_count": 10,
   "id": "a7c89da7",
   "metadata": {},
   "outputs": [
    {
     "name": "stdout",
     "output_type": "stream",
     "text": [
      " a:10   b:0\n",
      "the sum is  : 10\n"
     ]
    }
   ],
   "source": [
    "add(10)"
   ]
  },
  {
   "cell_type": "markdown",
   "id": "3951598e",
   "metadata": {},
   "source": [
    "# if we dont know how many input are present\n"
   ]
  },
  {
   "cell_type": "code",
   "execution_count": 12,
   "id": "efc8eb2c",
   "metadata": {},
   "outputs": [],
   "source": [
    "def add(*a):  #*a indictes extendable lists\n",
    "    total=0\n",
    "    for i in a:\n",
    "        total+=i\n",
    "            \n",
    "    print(\"the sum is \",total)"
   ]
  },
  {
   "cell_type": "code",
   "execution_count": 14,
   "id": "88fe647a",
   "metadata": {},
   "outputs": [
    {
     "name": "stdout",
     "output_type": "stream",
     "text": [
      "the sum is  172\n"
     ]
    }
   ],
   "source": [
    "add(3,4,5,6,7,87,5,5,5,3,4,3,3,4,4,4,5,5,5,5,)\n",
    "\n",
    "\n"
   ]
  },
  {
   "cell_type": "markdown",
   "id": "5be77eec",
   "metadata": {},
   "source": [
    "# if add has default values"
   ]
  },
  {
   "cell_type": "code",
   "execution_count": 21,
   "id": "9adc9a7e",
   "metadata": {},
   "outputs": [],
   "source": [
    "def add(a,b):\n",
    "    print(id(a),id(b)) #2nd line of output\n",
    "    a=2\n",
    "    b=4\n",
    "    print(id(a),id(b))  #adress of a and b  #3rd line of output\n",
    "    total=a+b\n",
    "    print(\"a:%d    b:%d\"%(a,b))\n",
    "    print(\"the sum is  :\",total)"
   ]
  },
  {
   "cell_type": "code",
   "execution_count": 22,
   "id": "ce6adb9a",
   "metadata": {},
   "outputs": [
    {
     "name": "stdout",
     "output_type": "stream",
     "text": [
      "2339627624816 2339627625008\n",
      "2339627624816 2339627625008\n",
      "2339627624784 2339627624848\n",
      "a:2    b:4\n",
      "the sum is  : 6\n",
      "sum of 3 and 9 is  : 12\n"
     ]
    }
   ],
   "source": [
    "x=3\n",
    "y=9\n",
    "print(id(x),id(y)) #1st line of output\n",
    "add(x,y)\n",
    "print (\"sum of %d and %d is  :\"%(x,y) ,(x+y))"
   ]
  },
  {
   "cell_type": "markdown",
   "id": "9bd3fc05",
   "metadata": {},
   "source": [
    "# passing list to function"
   ]
  },
  {
   "cell_type": "code",
   "execution_count": 23,
   "id": "db9aaf0f",
   "metadata": {},
   "outputs": [],
   "source": [
    "def change(lst):\n",
    "    lst[2]=0"
   ]
  },
  {
   "cell_type": "code",
   "execution_count": 24,
   "id": "28f0ee7d",
   "metadata": {},
   "outputs": [
    {
     "name": "stdout",
     "output_type": "stream",
     "text": [
      "[1, 2, 3]\n",
      "[1, 2, 0]\n"
     ]
    }
   ],
   "source": [
    "lst=[1,2,3]\n",
    "print(lst)\n",
    "\n",
    "change(lst)    #changes are reflected in original object\n",
    "print(lst)   "
   ]
  },
  {
   "cell_type": "markdown",
   "id": "6b863496",
   "metadata": {},
   "source": [
    "# if we dont want total to be printed inside the function"
   ]
  },
  {
   "cell_type": "code",
   "execution_count": 26,
   "id": "d1aceef4",
   "metadata": {},
   "outputs": [],
   "source": [
    "def add(a,b):\n",
    "    total=a+b\n",
    "    return total  #this function returns value to the calling line\n"
   ]
  },
  {
   "cell_type": "code",
   "execution_count": 27,
   "id": "2dd8f808",
   "metadata": {},
   "outputs": [],
   "source": [
    "result=add(10,5)"
   ]
  },
  {
   "cell_type": "code",
   "execution_count": 28,
   "id": "75ee737b",
   "metadata": {},
   "outputs": [
    {
     "name": "stdout",
     "output_type": "stream",
     "text": [
      "15\n"
     ]
    }
   ],
   "source": [
    "print(result)"
   ]
  }
 ],
 "metadata": {
  "kernelspec": {
   "display_name": "Python 3 (ipykernel)",
   "language": "python",
   "name": "python3"
  },
  "language_info": {
   "codemirror_mode": {
    "name": "ipython",
    "version": 3
   },
   "file_extension": ".py",
   "mimetype": "text/x-python",
   "name": "python",
   "nbconvert_exporter": "python",
   "pygments_lexer": "ipython3",
   "version": "3.9.12"
  }
 },
 "nbformat": 4,
 "nbformat_minor": 5
}
