{
 "cells": [
  {
   "cell_type": "code",
   "execution_count": 3,
   "id": "6a7b592d",
   "metadata": {},
   "outputs": [
    {
     "name": "stdout",
     "output_type": "stream",
     "text": [
      "100 kmph\n",
      "100 kmph\n",
      "\n",
      "100 kmph\n",
      "100 kmph\n"
     ]
    }
   ],
   "source": [
    "class car:\n",
    "    def getspeed(self):\n",
    "        print(\"100 kmph\")\n",
    "        \n",
    "bmw=car()\n",
    "ford=car()\n",
    "\n",
    "bmw.getspeed()\n",
    "ford.getspeed()\n",
    "print()\n",
    "car.getspeed(bmw)\n",
    "car.getspeed(ford)"
   ]
  },
  {
   "cell_type": "code",
   "execution_count": 11,
   "id": "9a2b5dcc",
   "metadata": {},
   "outputs": [
    {
     "name": "stdout",
     "output_type": "stream",
     "text": [
      "the maximum speed is 200\n",
      "the maximum speed is 170\n"
     ]
    }
   ],
   "source": [
    "class car:\n",
    "    \n",
    "      def __init__(self,year,speed):\n",
    "          self.year=year\n",
    "          self.speed=speed\n",
    "        \n",
    "        \n",
    "      def getspeed(self):   \n",
    "            print(\"the maximum speed is\",self.speed)\n",
    "        \n",
    "bmw = car(2022,200)\n",
    "ford=car(2018,170)\n",
    "\n",
    "bmw.getspeed()\n",
    "ford.getspeed()"
   ]
  },
  {
   "cell_type": "markdown",
   "id": "f39b66b1",
   "metadata": {},
   "source": [
    "# changing values"
   ]
  },
  {
   "cell_type": "code",
   "execution_count": 21,
   "id": "51335be4",
   "metadata": {},
   "outputs": [
    {
     "name": "stdout",
     "output_type": "stream",
     "text": [
      "the maximum speed is 200\n",
      "\n",
      "the maximum speed is 180\n",
      "\n",
      "the maximum speed is 160\n"
     ]
    }
   ],
   "source": [
    "class car:\n",
    "    def __init__(self,year,speed):\n",
    "        self.year=year\n",
    "        self.speed=speed\n",
    "        \n",
    "    def getspeed(self):\n",
    "        print(\"the maximum speed is\",self.speed)\n",
    "    \n",
    "    def setspeed(self,speed):\n",
    "        self.speed=speed\n",
    "        \n",
    "bmw=car(2018,200)\n",
    "ford=car(2016,160)\n",
    "\n",
    "bmw.getspeed()\n",
    "print()\n",
    "##here we are going to change value of speed \n",
    "bmw.setspeed(180)\n",
    "bmw.getspeed()\n",
    "print()\n",
    "ford.getspeed() #here 180 doesnt affect ford as we are not changing its value"
   ]
  },
  {
   "cell_type": "markdown",
   "id": "92b4063b",
   "metadata": {},
   "source": [
    "## inheritance"
   ]
  },
  {
   "cell_type": "code",
   "execution_count": 28,
   "id": "94398456",
   "metadata": {},
   "outputs": [
    {
     "name": "stdout",
     "output_type": "stream",
     "text": [
      "the maximum speed is  188\n",
      "trunk has been opened\n",
      "147\n",
      "\n",
      "the maximum speed is  200\n"
     ]
    }
   ],
   "source": [
    "####\n",
    "class car():\n",
    "    def __init__(self,year,speed):\n",
    "        self.year=year\n",
    "        self.speed=speed\n",
    "        \n",
    "    def getspeed(self):\n",
    "        print(\"the maximum speed is \",self.speed)\n",
    "        \n",
    "    def setspeed(self,speed):\n",
    "        self.speed=speed\n",
    "        \n",
    "bmw = car(2022,200)\n",
    "ford = car(2020,180)\n",
    "####\n",
    "\n",
    "class sedan(car):    #child class #inherited from car #contains all functions of car\n",
    "    def accelerate(self):\n",
    "        print('147')\n",
    "    def opentrunk(self):\n",
    "        print(\"trunk has been opened\")\n",
    "       \n",
    "### \n",
    "\n",
    "class suv(car):   #child class\n",
    "    def accelerate(self):\n",
    "        print('137')\n",
    "### \n",
    "\n",
    "honda=sedan(2016,188)\n",
    "\n",
    "honda.getspeed()\n",
    "honda.opentrunk()\n",
    "honda.accelerate()\n",
    "print()\n",
    "bmw.getspeed()\n",
    "#bmw.opentrunk() doesnt work as opentrunk belongs to only class sedan and not class car"
   ]
  },
  {
   "cell_type": "markdown",
   "id": "23894bab",
   "metadata": {},
   "source": [
    "# encapsulation()"
   ]
  },
  {
   "cell_type": "markdown",
   "id": "4a3e621a",
   "metadata": {},
   "source": [
    "###### meaning:preventing data from direct acess"
   ]
  },
  {
   "cell_type": "markdown",
   "id": "d9068caf",
   "metadata": {},
   "source": [
    "# polymorsphism"
   ]
  },
  {
   "cell_type": "markdown",
   "id": "6a38e011",
   "metadata": {},
   "source": [
    "###### meaning: using same function multiple ways"
   ]
  },
  {
   "cell_type": "code",
   "execution_count": 13,
   "id": "820f0b0d",
   "metadata": {},
   "outputs": [
    {
     "name": "stdout",
     "output_type": "stream",
     "text": [
      "name: camry \n",
      "speed:157\n",
      "\n",
      "name: scorpio \n",
      "speed:147\n",
      "\n"
     ]
    }
   ],
   "source": [
    "class car():\n",
    "    def __init__(self,name):\n",
    "        self.name=name\n",
    "        \n",
    "        \n",
    "class sedan(car):\n",
    "     def accelerate(self):\n",
    "        print('\\nspeed:157')\n",
    "class suv(car):\n",
    "     def accelerate(self):\n",
    "        print('\\nspeed:147')\n",
    "\n",
    "obj1=sedan('camry')\n",
    "obj2=suv('scorpio')\n",
    "obj=[obj1,obj2]\n",
    "for i in obj:\n",
    "    print('name:',i.name,end=\" \")\n",
    "    i.accelerate()\n",
    "    print()\n",
    "\n",
    "\n"
   ]
  },
  {
   "cell_type": "code",
   "execution_count": null,
   "id": "ad0fd013",
   "metadata": {},
   "outputs": [],
   "source": []
  },
  {
   "cell_type": "code",
   "execution_count": null,
   "id": "877e75bf",
   "metadata": {},
   "outputs": [],
   "source": []
  }
 ],
 "metadata": {
  "kernelspec": {
   "display_name": "Python 3 (ipykernel)",
   "language": "python",
   "name": "python3"
  },
  "language_info": {
   "codemirror_mode": {
    "name": "ipython",
    "version": 3
   },
   "file_extension": ".py",
   "mimetype": "text/x-python",
   "name": "python",
   "nbconvert_exporter": "python",
   "pygments_lexer": "ipython3",
   "version": "3.9.12"
  }
 },
 "nbformat": 4,
 "nbformat_minor": 5
}
