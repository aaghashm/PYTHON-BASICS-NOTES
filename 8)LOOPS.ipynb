{
 "cells": [
  {
   "cell_type": "markdown",
   "id": "4bc84e38",
   "metadata": {},
   "source": [
    "# WHILE LOOP"
   ]
  },
  {
   "cell_type": "code",
   "execution_count": 3,
   "id": "aadda0a3",
   "metadata": {},
   "outputs": [
    {
     "name": "stdout",
     "output_type": "stream",
     "text": [
      "ENTER A MULTIPLE OF 747\n",
      "ENTER A MULTIPLE OF 734\n",
      "ENTER A MULTIPLE OF 723\n",
      "ENTER A MULTIPLE OF 712\n",
      "ENTER A MULTIPLE OF 714\n",
      "14 is a multiple of 7\n"
     ]
    }
   ],
   "source": [
    "val=int(input(\"ENTER A MULTIPLE OF 7\"))\n",
    "while val%7 !=0:  #!= ----> not equal to\n",
    "    val=int(input(\"ENTER A MULTIPLE OF 7\"))\n",
    "else:\n",
    "    print(\"%d is a multiple of 7\" %val)\n",
    "    # %d is a place holder for integer.it is used when we need to print a value under strings\n",
    "    # %s is a place holder for strings                                    "
   ]
  },
  {
   "cell_type": "markdown",
   "id": "26cea452",
   "metadata": {},
   "source": [
    "# FOR LOOP"
   ]
  },
  {
   "cell_type": "code",
   "execution_count": 11,
   "id": "31841f70",
   "metadata": {},
   "outputs": [
    {
     "name": "stdout",
     "output_type": "stream",
     "text": [
      "1\n",
      "2\n",
      "simplilearn\n"
     ]
    }
   ],
   "source": [
    "x=[1,2,\"simplilearn\"]\n",
    "for i in x:  #i --- counter  #x --- sequence (or) variable  \n",
    "     print(i)  #for lists,tuples --- each element is i"
   ]
  },
  {
   "cell_type": "code",
   "execution_count": 12,
   "id": "681328cc",
   "metadata": {},
   "outputs": [
    {
     "name": "stdout",
     "output_type": "stream",
     "text": [
      "s\n",
      "i\n",
      "m\n",
      "p\n",
      "l\n",
      "i\n",
      "l\n",
      "e\n",
      "a\n",
      "r\n",
      "n\n"
     ]
    }
   ],
   "source": [
    "x=\"simplilearn\"\n",
    "for i in x:\n",
    "    print(i) #for strings--each letter is i"
   ]
  },
  {
   "cell_type": "markdown",
   "id": "5903eda5",
   "metadata": {},
   "source": [
    "# NESTED LOOPS"
   ]
  },
  {
   "cell_type": "code",
   "execution_count": 21,
   "id": "4568ca7b",
   "metadata": {},
   "outputs": [
    {
     "name": "stdout",
     "output_type": "stream",
     "text": [
      "1\n",
      "2\n",
      "3\n",
      "a\n",
      "b\n",
      "c\n"
     ]
    }
   ],
   "source": [
    "x=[[1,2,3],[\"a\",\"b\",\"c\"]]\n",
    "for i in x:\n",
    "    for j in i:             #here i is [1,2,3] & [\"a\",\"b\",\"c\"]\n",
    "         print(j)           #here j is  each element in i\n",
    "        "
   ]
  },
  {
   "cell_type": "code",
   "execution_count": 32,
   "id": "f2d6d611",
   "metadata": {},
   "outputs": [
    {
     "name": "stdout",
     "output_type": "stream",
     "text": [
      "123\n",
      "abc\n"
     ]
    }
   ],
   "source": [
    "x=[[1,2,3],[\"a\",\"b\",\"c\"]]\n",
    "for i in x:\n",
    "    for j in i:             \n",
    "         print(j , end=\"\") #end decides what comes after each element\n",
    "    print()       #changes line #new line statement"
   ]
  },
  {
   "cell_type": "markdown",
   "id": "986180eb",
   "metadata": {},
   "source": [
    "# loop control statements"
   ]
  },
  {
   "cell_type": "markdown",
   "id": "862866a0",
   "metadata": {},
   "source": [
    "# 1) break statement"
   ]
  },
  {
   "cell_type": "code",
   "execution_count": 35,
   "id": "29ae6037",
   "metadata": {},
   "outputs": [
    {
     "name": "stdout",
     "output_type": "stream",
     "text": [
      "hey there"
     ]
    }
   ],
   "source": [
    "x=\"hey there! how are you?\"\n",
    "for i in x:\n",
    "    if i == \"!\" :\n",
    "        break                #it breaks at the first occuren of the symbol provided\n",
    "        \n",
    "    print(i, end=\"\")"
   ]
  },
  {
   "cell_type": "markdown",
   "id": "23c63328",
   "metadata": {},
   "source": [
    "# 2)continue statement"
   ]
  },
  {
   "cell_type": "code",
   "execution_count": 41,
   "id": "bf4a1ec4",
   "metadata": {},
   "outputs": [
    {
     "name": "stdout",
     "output_type": "stream",
     "text": [
      "1\n",
      "4\n",
      "6\n"
     ]
    }
   ],
   "source": [
    "x= [1,13,56,4,6]\n",
    "for i in x:\n",
    "    if i>10:        #we give the statement to not print\n",
    "        continue    # if continue comes , the control goes back to \"for\" loop, not next line. so it ignores the next line\n",
    "    print(i)    "
   ]
  },
  {
   "cell_type": "code",
   "execution_count": null,
   "id": "0a81bcef",
   "metadata": {},
   "outputs": [],
   "source": []
  }
 ],
 "metadata": {
  "kernelspec": {
   "display_name": "Python 3 (ipykernel)",
   "language": "python",
   "name": "python3"
  },
  "language_info": {
   "codemirror_mode": {
    "name": "ipython",
    "version": 3
   },
   "file_extension": ".py",
   "mimetype": "text/x-python",
   "name": "python",
   "nbconvert_exporter": "python",
   "pygments_lexer": "ipython3",
   "version": "3.9.12"
  }
 },
 "nbformat": 4,
 "nbformat_minor": 5
}
