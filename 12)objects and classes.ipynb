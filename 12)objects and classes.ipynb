{
 "cells": [
  {
   "cell_type": "code",
   "execution_count": 11,
   "id": "c64b6b19",
   "metadata": {},
   "outputs": [
    {
     "name": "stdout",
     "output_type": "stream",
     "text": [
      "hi i am sam\n",
      "i am eligible to vote\n"
     ]
    }
   ],
   "source": [
    "class person:\n",
    "    \n",
    "     def __init__(self):    #main object     #self-object we r giving values to   ##this is a constructor\n",
    "        self.name=\"sam\"\n",
    "        self.gender=\"male\"\n",
    "        self.age= 22\n",
    "    \n",
    "     def talk(self): \n",
    "        print(\"hi i am %s\"%self.name)\n",
    "        \n",
    "     def vote(self):\n",
    "         if self.age<18:\n",
    "            print(\"i am not eligible to vote\")\n",
    "         else: \n",
    "            print(\"i am eligible to vote\")\n",
    "\n",
    "obj=person()\n",
    "obj.talk()  #person.talk(obj)\n",
    "obj.vote()  #person.vote(obj)\n",
    "           "
   ]
  },
  {
   "cell_type": "markdown",
   "id": "b175b5d4",
   "metadata": {},
   "source": [
    "# creating two seperate objects"
   ]
  },
  {
   "cell_type": "code",
   "execution_count": 13,
   "id": "0215faa6",
   "metadata": {},
   "outputs": [
    {
     "name": "stdout",
     "output_type": "stream",
     "text": [
      "i am sam\n",
      "i am eligible to vote\n",
      "\n",
      "i am mia\n",
      "i am not eligible to vote\n"
     ]
    }
   ],
   "source": [
    "class person:\n",
    "       def __init__(self,n,g,a):\n",
    "        self.name=n\n",
    "        self.gender=g\n",
    "        self.age=a\n",
    "        \n",
    "       def talk(self):\n",
    "               print(\"i am %s\"%self.name)\n",
    "        \n",
    "       def vote(self):\n",
    "              if self.age<18:\n",
    "                    print(\"i am not eligible to vote\")\n",
    "              else:\n",
    "                  print(\"i am eligible to vote\")\n",
    "         \n",
    "obj1=person(\"sam\",\"male\",18)\n",
    "obj2=person(\"mia\",\"female\",16)\n",
    "\n",
    "obj1.talk()\n",
    "obj1.vote()\n",
    "print()\n",
    "obj2.talk()\n",
    "obj2.vote()\n"
   ]
  },
  {
   "cell_type": "code",
   "execution_count": null,
   "id": "3cc3ac58",
   "metadata": {},
   "outputs": [],
   "source": []
  }
 ],
 "metadata": {
  "kernelspec": {
   "display_name": "Python 3 (ipykernel)",
   "language": "python",
   "name": "python3"
  },
  "language_info": {
   "codemirror_mode": {
    "name": "ipython",
    "version": 3
   },
   "file_extension": ".py",
   "mimetype": "text/x-python",
   "name": "python",
   "nbconvert_exporter": "python",
   "pygments_lexer": "ipython3",
   "version": "3.9.12"
  }
 },
 "nbformat": 4,
 "nbformat_minor": 5
}
