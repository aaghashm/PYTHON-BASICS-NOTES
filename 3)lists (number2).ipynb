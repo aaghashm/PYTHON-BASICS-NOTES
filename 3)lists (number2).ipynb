{
 "cells": [
  {
   "cell_type": "code",
   "execution_count": 1,
   "id": "e6cc4f6d",
   "metadata": {},
   "outputs": [],
   "source": [
    "num=[1,2,3,4]"
   ]
  },
  {
   "cell_type": "code",
   "execution_count": 2,
   "id": "65064acb",
   "metadata": {},
   "outputs": [
    {
     "name": "stdout",
     "output_type": "stream",
     "text": [
      "[1, 2, 3, 4]\n"
     ]
    }
   ],
   "source": [
    "print(num)"
   ]
  },
  {
   "cell_type": "code",
   "execution_count": 3,
   "id": "9e30b263",
   "metadata": {},
   "outputs": [],
   "source": [
    "letter=[\"a\",'b','c','d']"
   ]
  },
  {
   "cell_type": "code",
   "execution_count": 4,
   "id": "9c257121",
   "metadata": {},
   "outputs": [
    {
     "name": "stdout",
     "output_type": "stream",
     "text": [
      "['a', 'b', 'c', 'd']\n"
     ]
    }
   ],
   "source": [
    "print(letter)"
   ]
  },
  {
   "cell_type": "code",
   "execution_count": 5,
   "id": "0ff7aeea",
   "metadata": {},
   "outputs": [],
   "source": [
    "string=[\"get\" ,\"certified\",\"get\",\"ahead\"]"
   ]
  },
  {
   "cell_type": "code",
   "execution_count": 6,
   "id": "1fd381a9",
   "metadata": {},
   "outputs": [
    {
     "name": "stdout",
     "output_type": "stream",
     "text": [
      "['get', 'certified', 'get', 'ahead']\n"
     ]
    }
   ],
   "source": [
    "print(string)"
   ]
  },
  {
   "cell_type": "code",
   "execution_count": 7,
   "id": "ac2f333c",
   "metadata": {},
   "outputs": [],
   "source": [
    "mix=[1,6,\"aaghash\",\"is\",\"learning\"]"
   ]
  },
  {
   "cell_type": "code",
   "execution_count": 8,
   "id": "ab384cc8",
   "metadata": {},
   "outputs": [
    {
     "name": "stdout",
     "output_type": "stream",
     "text": [
      "[1, 6, 'aaghash', 'is', 'learning']\n"
     ]
    }
   ],
   "source": [
    "print(mix)"
   ]
  },
  {
   "cell_type": "code",
   "execution_count": 9,
   "id": "1eb6732e",
   "metadata": {},
   "outputs": [],
   "source": [
    "mat=[[1,2],['a','b']]"
   ]
  },
  {
   "cell_type": "code",
   "execution_count": 10,
   "id": "57dd7dcf",
   "metadata": {},
   "outputs": [
    {
     "name": "stdout",
     "output_type": "stream",
     "text": [
      "[[1, 2], ['a', 'b']]\n"
     ]
    }
   ],
   "source": [
    "print(mat)"
   ]
  },
  {
   "cell_type": "markdown",
   "id": "8d6d4329",
   "metadata": {},
   "source": [
    "#ACCESSING ELEMENTS IN LIST"
   ]
  },
  {
   "cell_type": "code",
   "execution_count": 11,
   "id": "f815a5bf",
   "metadata": {},
   "outputs": [
    {
     "data": {
      "text/plain": [
       "list"
      ]
     },
     "execution_count": 11,
     "metadata": {},
     "output_type": "execute_result"
    }
   ],
   "source": [
    "type(mix)"
   ]
  },
  {
   "cell_type": "code",
   "execution_count": 12,
   "id": "030fb262",
   "metadata": {},
   "outputs": [
    {
     "name": "stdout",
     "output_type": "stream",
     "text": [
      "[1, 6, 'aaghash', 'is', 'learning']\n"
     ]
    }
   ],
   "source": [
    "print(mix)"
   ]
  },
  {
   "cell_type": "code",
   "execution_count": 14,
   "id": "f270fb6c",
   "metadata": {},
   "outputs": [
    {
     "data": {
      "text/plain": [
       "'is'"
      ]
     },
     "execution_count": 14,
     "metadata": {},
     "output_type": "execute_result"
    }
   ],
   "source": [
    "mix[-2]"
   ]
  },
  {
   "cell_type": "code",
   "execution_count": 15,
   "id": "429a8d8e",
   "metadata": {},
   "outputs": [
    {
     "data": {
      "text/plain": [
       "'learning'"
      ]
     },
     "execution_count": 15,
     "metadata": {},
     "output_type": "execute_result"
    }
   ],
   "source": [
    "mix[-1]"
   ]
  },
  {
   "cell_type": "code",
   "execution_count": 16,
   "id": "78a902c8",
   "metadata": {},
   "outputs": [
    {
     "data": {
      "text/plain": [
       "[1, 6, 'aaghash']"
      ]
     },
     "execution_count": 16,
     "metadata": {},
     "output_type": "execute_result"
    }
   ],
   "source": [
    "mix[:3]"
   ]
  },
  {
   "cell_type": "code",
   "execution_count": 20,
   "id": "8524c19e",
   "metadata": {},
   "outputs": [
    {
     "data": {
      "text/plain": [
       "[6, 'aaghash']"
      ]
     },
     "execution_count": 20,
     "metadata": {},
     "output_type": "execute_result"
    }
   ],
   "source": [
    "mix[1:3] #it doesnt count 3 "
   ]
  },
  {
   "cell_type": "code",
   "execution_count": 19,
   "id": "634b2adb",
   "metadata": {},
   "outputs": [
    {
     "data": {
      "text/plain": [
       "['aaghash', 'is']"
      ]
     },
     "execution_count": 19,
     "metadata": {},
     "output_type": "execute_result"
    }
   ],
   "source": [
    "mix[2:4]"
   ]
  },
  {
   "cell_type": "code",
   "execution_count": 21,
   "id": "651340d6",
   "metadata": {},
   "outputs": [
    {
     "data": {
      "text/plain": [
       "['is', 'learning']"
      ]
     },
     "execution_count": 21,
     "metadata": {},
     "output_type": "execute_result"
    }
   ],
   "source": [
    "mix[3:]"
   ]
  },
  {
   "cell_type": "code",
   "execution_count": 22,
   "id": "c7cba596",
   "metadata": {},
   "outputs": [
    {
     "data": {
      "text/plain": [
       "['aaghash', 'is', 'learning']"
      ]
     },
     "execution_count": 22,
     "metadata": {},
     "output_type": "execute_result"
    }
   ],
   "source": [
    "mix[2:]"
   ]
  },
  {
   "cell_type": "code",
   "execution_count": 23,
   "id": "a88cb41e",
   "metadata": {},
   "outputs": [
    {
     "data": {
      "text/plain": [
       "[1, 'aaghash', 'learning']"
      ]
     },
     "execution_count": 23,
     "metadata": {},
     "output_type": "execute_result"
    }
   ],
   "source": [
    "mix[::2] #every second element is printed"
   ]
  },
  {
   "cell_type": "code",
   "execution_count": 24,
   "id": "03e852b6",
   "metadata": {},
   "outputs": [
    {
     "data": {
      "text/plain": [
       "[1, 'is']"
      ]
     },
     "execution_count": 24,
     "metadata": {},
     "output_type": "execute_result"
    }
   ],
   "source": [
    "mix[::3] #every third element is printed"
   ]
  },
  {
   "cell_type": "code",
   "execution_count": 26,
   "id": "a7a4d109",
   "metadata": {},
   "outputs": [
    {
     "data": {
      "text/plain": [
       "['learning', 'is', 'aaghash', 6, 1]"
      ]
     },
     "execution_count": 26,
     "metadata": {},
     "output_type": "execute_result"
    }
   ],
   "source": [
    "mix[::-1] #printed from reverse"
   ]
  },
  {
   "cell_type": "code",
   "execution_count": 28,
   "id": "232d8c05",
   "metadata": {},
   "outputs": [
    {
     "data": {
      "text/plain": [
       "[6, 'is']"
      ]
     },
     "execution_count": 28,
     "metadata": {},
     "output_type": "execute_result"
    }
   ],
   "source": [
    "mix[1::2] #starting-1\n",
    "          #ending-end  \n",
    "          #EVERY SECOND NUMBER FROM START PRINTED"
   ]
  },
  {
   "cell_type": "code",
   "execution_count": 29,
   "id": "af1f00e0",
   "metadata": {},
   "outputs": [
    {
     "data": {
      "text/plain": [
       "[6, 'is']"
      ]
     },
     "execution_count": 29,
     "metadata": {},
     "output_type": "execute_result"
    }
   ],
   "source": [
    "mix[1:5:2] #starting-1\n",
    "           #ending-5\n",
    "        #EVERY SECOND NUMBER"
   ]
  },
  {
   "cell_type": "markdown",
   "id": "3c5171c1",
   "metadata": {},
   "source": [
    "OPERATIONS ON LIST"
   ]
  },
  {
   "cell_type": "code",
   "execution_count": 31,
   "id": "4d70ed80",
   "metadata": {},
   "outputs": [
    {
     "name": "stdout",
     "output_type": "stream",
     "text": [
      "[0, 0, 0, 0, 0, 0, 0, 0, 0, 0, 0, 0, 0, 0, 0, 0, 0, 0, 0, 0, 0, 0, 0, 0, 0, 0, 0, 0, 0, 0, 0, 0, 0, 0, 0, 0, 0, 0, 0, 0, 0, 0, 0, 0, 0, 0, 0, 0, 0, 0, 0, 0, 0, 0, 0, 0, 0, 0, 0, 0, 0, 0, 0, 0, 0, 0, 0, 0, 0, 0, 0, 0, 0, 0, 0, 0, 0, 0, 0, 0, 0, 0, 0, 0, 0, 0, 0, 0, 0, 0, 0, 0, 0, 0, 0, 0, 0, 0, 0, 0]\n"
     ]
    }
   ],
   "source": [
    "z=[0]*100\n",
    "print(z)"
   ]
  },
  {
   "cell_type": "code",
   "execution_count": 32,
   "id": "e8f6c2d8",
   "metadata": {},
   "outputs": [
    {
     "name": "stdout",
     "output_type": "stream",
     "text": [
      "['a', 'b', 'c', 'd']\n"
     ]
    }
   ],
   "source": [
    "print(letter)"
   ]
  },
  {
   "cell_type": "code",
   "execution_count": 33,
   "id": "3751322b",
   "metadata": {},
   "outputs": [
    {
     "name": "stdout",
     "output_type": "stream",
     "text": [
      "['get', 'certified', 'get', 'ahead']\n"
     ]
    }
   ],
   "source": [
    "print(string)"
   ]
  },
  {
   "cell_type": "code",
   "execution_count": 34,
   "id": "458e5b37",
   "metadata": {},
   "outputs": [],
   "source": [
    "concatenate= letter+string"
   ]
  },
  {
   "cell_type": "code",
   "execution_count": 35,
   "id": "15548cbd",
   "metadata": {},
   "outputs": [
    {
     "name": "stdout",
     "output_type": "stream",
     "text": [
      "['a', 'b', 'c', 'd', 'get', 'certified', 'get', 'ahead']\n"
     ]
    }
   ],
   "source": [
    "print(concatenate)"
   ]
  },
  {
   "cell_type": "code",
   "execution_count": 36,
   "id": "b425e7ef",
   "metadata": {},
   "outputs": [
    {
     "name": "stdout",
     "output_type": "stream",
     "text": [
      "[1, 2, 3, 4, 3, 4, 5, 6]\n"
     ]
    }
   ],
   "source": [
    "a=[1,2,3,4]\n",
    "b=[3,4,5,6]\n",
    "print(a+b)"
   ]
  },
  {
   "cell_type": "code",
   "execution_count": 37,
   "id": "5811500c",
   "metadata": {},
   "outputs": [
    {
     "name": "stdout",
     "output_type": "stream",
     "text": [
      "['h', 'e', 'y', ' ', 't', 'h', 'e', 'r', 'e']\n"
     ]
    }
   ],
   "source": [
    "var=list(\"hey there\")\n",
    "print(var)"
   ]
  },
  {
   "cell_type": "code",
   "execution_count": 38,
   "id": "4a370260",
   "metadata": {},
   "outputs": [
    {
     "name": "stdout",
     "output_type": "stream",
     "text": [
      "[1, 2, 3, 4]\n"
     ]
    }
   ],
   "source": [
    "print(num)"
   ]
  },
  {
   "cell_type": "code",
   "execution_count": 39,
   "id": "785dd33b",
   "metadata": {},
   "outputs": [
    {
     "name": "stdout",
     "output_type": "stream",
     "text": [
      "1\n",
      "[2, 3, 4]\n"
     ]
    }
   ],
   "source": [
    "one , *others=num\n",
    "print(one)\n",
    "print(others)"
   ]
  },
  {
   "cell_type": "code",
   "execution_count": 41,
   "id": "4a2736ef",
   "metadata": {},
   "outputs": [
    {
     "name": "stdout",
     "output_type": "stream",
     "text": [
      "1\n",
      "[2, 3, 4]\n"
     ]
    }
   ],
   "source": [
    "name1 , *remaining=num\n",
    "print(name1)\n",
    "print(others)"
   ]
  },
  {
   "cell_type": "markdown",
   "id": "b2783974",
   "metadata": {},
   "source": [
    "methods in list"
   ]
  },
  {
   "cell_type": "code",
   "execution_count": 42,
   "id": "18fcdac3",
   "metadata": {},
   "outputs": [
    {
     "name": "stdout",
     "output_type": "stream",
     "text": [
      "[1, 2, 3, 4]\n"
     ]
    }
   ],
   "source": [
    "print(num)"
   ]
  },
  {
   "cell_type": "code",
   "execution_count": 44,
   "id": "a8036ebf",
   "metadata": {},
   "outputs": [
    {
     "name": "stdout",
     "output_type": "stream",
     "text": [
      "[1, 2, 3, 4, 6, 6]\n"
     ]
    }
   ],
   "source": [
    "num.append(6) #append-adds no to end of list\n",
    "print(num)"
   ]
  },
  {
   "cell_type": "code",
   "execution_count": 45,
   "id": "07fb6d20",
   "metadata": {},
   "outputs": [
    {
     "name": "stdout",
     "output_type": "stream",
     "text": [
      "['get', 'certified', 'get', 'ahead']\n"
     ]
    }
   ],
   "source": [
    "print(string)"
   ]
  },
  {
   "cell_type": "code",
   "execution_count": 48,
   "id": "9f6cb55e",
   "metadata": {},
   "outputs": [],
   "source": [
    "num.extend(string) #extend- adds entire list at end"
   ]
  },
  {
   "cell_type": "code",
   "execution_count": 49,
   "id": "b9061cd9",
   "metadata": {},
   "outputs": [
    {
     "name": "stdout",
     "output_type": "stream",
     "text": [
      "[1, 2, 3, 4, 6, 6, 'get', 'certified', 'get', 'ahead']\n"
     ]
    }
   ],
   "source": [
    "print(num)"
   ]
  },
  {
   "cell_type": "code",
   "execution_count": 50,
   "id": "f9548176",
   "metadata": {},
   "outputs": [],
   "source": [
    "#num.insert(position,element)\n",
    "num.insert(5,\"simplilearn\")"
   ]
  },
  {
   "cell_type": "code",
   "execution_count": 51,
   "id": "7a04765d",
   "metadata": {},
   "outputs": [
    {
     "name": "stdout",
     "output_type": "stream",
     "text": [
      "[1, 2, 3, 4, 6, 'simplilearn', 6, 'get', 'certified', 'get', 'ahead']\n"
     ]
    }
   ],
   "source": [
    "print(num)"
   ]
  },
  {
   "cell_type": "code",
   "execution_count": 52,
   "id": "262ce6d9",
   "metadata": {},
   "outputs": [],
   "source": [
    "num.remove(\"simplilearn\") #removes only first occurence"
   ]
  },
  {
   "cell_type": "code",
   "execution_count": 53,
   "id": "87684a25",
   "metadata": {},
   "outputs": [
    {
     "name": "stdout",
     "output_type": "stream",
     "text": [
      "[1, 2, 3, 4, 6, 6, 'get', 'certified', 'get', 'ahead']\n"
     ]
    }
   ],
   "source": [
    "print(num)"
   ]
  },
  {
   "cell_type": "code",
   "execution_count": 56,
   "id": "30da90be",
   "metadata": {},
   "outputs": [],
   "source": [
    "var1=['b','c','m', 'a']\n",
    "var1.sort()  #sorting"
   ]
  },
  {
   "cell_type": "code",
   "execution_count": 57,
   "id": "33fb1a66",
   "metadata": {},
   "outputs": [
    {
     "name": "stdout",
     "output_type": "stream",
     "text": [
      "['a', 'b', 'c', 'm']\n"
     ]
    }
   ],
   "source": [
    "print(var1)"
   ]
  },
  {
   "cell_type": "markdown",
   "id": "d2e8ddcf",
   "metadata": {},
   "source": [
    "BUILT IN FUNCTIONS"
   ]
  },
  {
   "cell_type": "code",
   "execution_count": 58,
   "id": "f19454cd",
   "metadata": {},
   "outputs": [],
   "source": [
    "x=[9,17,4,90,55]\n"
   ]
  },
  {
   "cell_type": "code",
   "execution_count": 59,
   "id": "a01ab063",
   "metadata": {},
   "outputs": [
    {
     "data": {
      "text/plain": [
       "5"
      ]
     },
     "execution_count": 59,
     "metadata": {},
     "output_type": "execute_result"
    }
   ],
   "source": [
    "len(x)"
   ]
  },
  {
   "cell_type": "code",
   "execution_count": 60,
   "id": "2986b5bf",
   "metadata": {},
   "outputs": [
    {
     "data": {
      "text/plain": [
       "4"
      ]
     },
     "execution_count": 60,
     "metadata": {},
     "output_type": "execute_result"
    }
   ],
   "source": [
    "min(x)"
   ]
  },
  {
   "cell_type": "code",
   "execution_count": 61,
   "id": "54530e3d",
   "metadata": {},
   "outputs": [
    {
     "data": {
      "text/plain": [
       "90"
      ]
     },
     "execution_count": 61,
     "metadata": {},
     "output_type": "execute_result"
    }
   ],
   "source": [
    "max(x)"
   ]
  },
  {
   "cell_type": "code",
   "execution_count": 63,
   "id": "91d4fd3b",
   "metadata": {},
   "outputs": [
    {
     "data": {
      "text/plain": [
       "175"
      ]
     },
     "execution_count": 63,
     "metadata": {},
     "output_type": "execute_result"
    }
   ],
   "source": [
    "sum(x) #sum of all elements"
   ]
  },
  {
   "cell_type": "code",
   "execution_count": 64,
   "id": "3383e5a9",
   "metadata": {},
   "outputs": [],
   "source": [
    "average = sum(x)/len(x)"
   ]
  },
  {
   "cell_type": "code",
   "execution_count": 65,
   "id": "e5a87809",
   "metadata": {},
   "outputs": [
    {
     "name": "stdout",
     "output_type": "stream",
     "text": [
      "35.0\n"
     ]
    }
   ],
   "source": [
    "print(average)"
   ]
  },
  {
   "cell_type": "code",
   "execution_count": null,
   "id": "6090de7d",
   "metadata": {},
   "outputs": [],
   "source": []
  }
 ],
 "metadata": {
  "kernelspec": {
   "display_name": "Python 3 (ipykernel)",
   "language": "python",
   "name": "python3"
  },
  "language_info": {
   "codemirror_mode": {
    "name": "ipython",
    "version": 3
   },
   "file_extension": ".py",
   "mimetype": "text/x-python",
   "name": "python",
   "nbconvert_exporter": "python",
   "pygments_lexer": "ipython3",
   "version": "3.9.12"
  }
 },
 "nbformat": 4,
 "nbformat_minor": 5
}
