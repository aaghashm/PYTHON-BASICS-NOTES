{
 "cells": [
  {
   "cell_type": "code",
   "execution_count": 1,
   "id": "79b4b7e6",
   "metadata": {},
   "outputs": [
    {
     "name": "stdout",
     "output_type": "stream",
     "text": [
      "1 4 2 simplilearn "
     ]
    }
   ],
   "source": [
    "x=[1,4,2,\"simplilearn\"]\n",
    "for i in x:\n",
    "    print(i, end = \" \")"
   ]
  },
  {
   "cell_type": "markdown",
   "id": "4eee6ec6",
   "metadata": {},
   "source": [
    "# range"
   ]
  },
  {
   "cell_type": "code",
   "execution_count": 3,
   "id": "66183f73",
   "metadata": {},
   "outputs": [
    {
     "name": "stdout",
     "output_type": "stream",
     "text": [
      "0 2 4 6 8 10 12 14 16 18 20 "
     ]
    }
   ],
   "source": [
    "for i in range (0,21,2): #   21 is not counted. only till 20 #0 then 2\n",
    "    print (i, end = \" \")\n"
   ]
  },
  {
   "cell_type": "code",
   "execution_count": 5,
   "id": "56a004d7",
   "metadata": {},
   "outputs": [
    {
     "name": "stdout",
     "output_type": "stream",
     "text": [
      "110\n"
     ]
    }
   ],
   "source": [
    "sum =0\n",
    "for i in range(0,21):\n",
    "    if i%2 ==0:\n",
    "        sum+=i\n",
    "print(sum)        \n",
    "        "
   ]
  },
  {
   "cell_type": "markdown",
   "id": "22398a7a",
   "metadata": {},
   "source": [
    "# printing a pattern"
   ]
  },
  {
   "cell_type": "code",
   "execution_count": 5,
   "id": "df639f68",
   "metadata": {},
   "outputs": [
    {
     "name": "stdout",
     "output_type": "stream",
     "text": [
      "ENTER A NUMBER10\n",
      "1\n",
      "12\n",
      "123\n",
      "1234\n",
      "12345\n",
      "123456\n",
      "1234567\n",
      "12345678\n",
      "123456789\n",
      "12345678910\n"
     ]
    }
   ],
   "source": [
    "n=int(input(\"ENTER A NUMBER\"))\n",
    "\n",
    "for i in range(1,n+1):\n",
    "    for j in range(1,i+1):\n",
    "      print(j,end=\"\")\n",
    "    print()\n",
    "    "
   ]
  },
  {
   "cell_type": "markdown",
   "id": "09cbed55",
   "metadata": {},
   "source": [
    "# ADDITION OF MATRIX"
   ]
  },
  {
   "cell_type": "code",
   "execution_count": 19,
   "id": "bac839a1",
   "metadata": {},
   "outputs": [
    {
     "ename": "SyntaxError",
     "evalue": "invalid syntax (3846716239.py, line 8)",
     "output_type": "error",
     "traceback": [
      "\u001b[1;36m  Input \u001b[1;32mIn [19]\u001b[1;36m\u001b[0m\n\u001b[1;33m    x.insert(i,val)\u001b[0m\n\u001b[1;37m    ^\u001b[0m\n\u001b[1;31mSyntaxError\u001b[0m\u001b[1;31m:\u001b[0m invalid syntax\n"
     ]
    }
   ],
   "source": [
    "r=int(input(\"enter no of rows\"))\n",
    "c=int(input(\"enter no of columns\"))\n",
    "x =[]\n",
    "val=[]  #val is a list in x\n",
    "for i in range(0,r):                  #r is no of element in x\n",
    "    for j in range(0,c):  #c is no of elements in lists of x\n",
    "     val.insert(j,int(input(\"enter the %d * %d element\" %(i,j)))\n",
    "    x.insert(i,val)  \n",
    "    val=[]\n",
    "y=[]\n",
    "for i in range(0,r):\n",
    "    for j in range(0,c):\n",
    "        val.insert(j,int(input('enter the %d * %d element' %(i,j)))\n",
    "    y.insert(i,val)    \n",
    "    val=[]\n",
    "sum=[]\n",
    "\n",
    "for i in range(0,r) :\n",
    "    for j in range(0,c):\n",
    "        val.insert(j,x[i][j]+y[i][j])\n",
    "    sum.insert(i,val)\n",
    "    val=[]\n",
    "print(sum)"
   ]
  },
  {
   "cell_type": "code",
   "execution_count": null,
   "id": "e33bd188",
   "metadata": {},
   "outputs": [],
   "source": []
  }
 ],
 "metadata": {
  "kernelspec": {
   "display_name": "Python 3 (ipykernel)",
   "language": "python",
   "name": "python3"
  },
  "language_info": {
   "codemirror_mode": {
    "name": "ipython",
    "version": 3
   },
   "file_extension": ".py",
   "mimetype": "text/x-python",
   "name": "python",
   "nbconvert_exporter": "python",
   "pygments_lexer": "ipython3",
   "version": "3.9.12"
  }
 },
 "nbformat": 4,
 "nbformat_minor": 5
}
