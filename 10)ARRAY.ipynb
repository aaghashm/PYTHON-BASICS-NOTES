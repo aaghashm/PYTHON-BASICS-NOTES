{
 "cells": [
  {
   "cell_type": "code",
   "execution_count": 1,
   "id": "6c520cf3",
   "metadata": {},
   "outputs": [
    {
     "name": "stdout",
     "output_type": "stream",
     "text": [
      "array('i', [-1, 2, 3, 4, 5])\n"
     ]
    }
   ],
   "source": [
    "from array import *\n",
    "\n",
    "arr = array('i',[-1,2,3,4,5]) #i is the type. check chart for details\n",
    "\n",
    "print(arr)"
   ]
  },
  {
   "cell_type": "code",
   "execution_count": 2,
   "id": "26891d01",
   "metadata": {},
   "outputs": [
    {
     "name": "stdout",
     "output_type": "stream",
     "text": [
      "(2187955396528, 5)\n"
     ]
    }
   ],
   "source": [
    "print(arr.buffer_info()) #memory location"
   ]
  },
  {
   "cell_type": "code",
   "execution_count": 3,
   "id": "2c9cfd8f",
   "metadata": {},
   "outputs": [
    {
     "name": "stdout",
     "output_type": "stream",
     "text": [
      "3\n"
     ]
    }
   ],
   "source": [
    "print(arr[2]) "
   ]
  },
  {
   "cell_type": "code",
   "execution_count": 4,
   "id": "bb0ad884",
   "metadata": {},
   "outputs": [
    {
     "name": "stdout",
     "output_type": "stream",
     "text": [
      "-1\n",
      "2\n",
      "3\n",
      "4\n",
      "5\n"
     ]
    }
   ],
   "source": [
    "for i in arr:\n",
    "    print(i)"
   ]
  },
  {
   "cell_type": "code",
   "execution_count": 11,
   "id": "bd051620",
   "metadata": {},
   "outputs": [
    {
     "name": "stdout",
     "output_type": "stream",
     "text": [
      "1 2\n",
      "2 3\n",
      "3 4\n"
     ]
    }
   ],
   "source": [
    "for j in range(1,4):\n",
    "    print(j, arr[j])"
   ]
  },
  {
   "cell_type": "code",
   "execution_count": 12,
   "id": "457b93d6",
   "metadata": {},
   "outputs": [
    {
     "name": "stdout",
     "output_type": "stream",
     "text": [
      "array('i', [5, 4, 3, 2, -1])\n"
     ]
    }
   ],
   "source": [
    "arr.reverse()\n",
    "print(arr)"
   ]
  },
  {
   "cell_type": "code",
   "execution_count": 14,
   "id": "13a14959",
   "metadata": {},
   "outputs": [
    {
     "name": "stdout",
     "output_type": "stream",
     "text": [
      "array('i', [5, 4, 3, 2, -1, 10, 10])\n"
     ]
    }
   ],
   "source": [
    "arr.append(10)\n",
    "print(arr)"
   ]
  },
  {
   "cell_type": "code",
   "execution_count": 15,
   "id": "a54266c6",
   "metadata": {},
   "outputs": [
    {
     "name": "stdout",
     "output_type": "stream",
     "text": [
      "array('i', [5, 4, 3, -1, 10, 10])\n"
     ]
    }
   ],
   "source": [
    "arr.remove(2)\n",
    "print(arr)     #only first two will be removed"
   ]
  },
  {
   "cell_type": "code",
   "execution_count": 18,
   "id": "deb9bcba",
   "metadata": {},
   "outputs": [
    {
     "name": "stdout",
     "output_type": "stream",
     "text": [
      "2\n",
      "1\n"
     ]
    }
   ],
   "source": [
    "arr = array('i',[-1,2,2,3,4,5])\n",
    "print(arr[2]) #this prints the element in index(2)\n",
    "print(arr.index(2)) #this prints the index of the element 2"
   ]
  },
  {
   "cell_type": "markdown",
   "id": "35824281",
   "metadata": {},
   "source": [
    "# creating an array"
   ]
  },
  {
   "cell_type": "code",
   "execution_count": 2,
   "id": "3f3d072f",
   "metadata": {},
   "outputs": [
    {
     "name": "stdout",
     "output_type": "stream",
     "text": [
      "enter size of array1\n",
      "\n",
      "enter 1 elements\n",
      "enter the element6\n",
      "\n",
      "array('i', [6])\n"
     ]
    }
   ],
   "source": [
    "from array import *\n",
    "arr = array('i',[])\n",
    "x=int(input('enter size of array'))\n",
    "print()\n",
    "print(\"enter %d elements\"%x)\n",
    "for i in range(x):\n",
    "    n=int(input(\"enter the element\"))\n",
    "    arr.append(n)\n",
    "    print()\n",
    "print(arr)    \n",
    "    \n",
    "    "
   ]
  },
  {
   "cell_type": "code",
   "execution_count": null,
   "id": "8bef0ebb",
   "metadata": {},
   "outputs": [],
   "source": []
  }
 ],
 "metadata": {
  "kernelspec": {
   "display_name": "Python 3 (ipykernel)",
   "language": "python",
   "name": "python3"
  },
  "language_info": {
   "codemirror_mode": {
    "name": "ipython",
    "version": 3
   },
   "file_extension": ".py",
   "mimetype": "text/x-python",
   "name": "python",
   "nbconvert_exporter": "python",
   "pygments_lexer": "ipython3",
   "version": "3.9.12"
  }
 },
 "nbformat": 4,
 "nbformat_minor": 5
}
