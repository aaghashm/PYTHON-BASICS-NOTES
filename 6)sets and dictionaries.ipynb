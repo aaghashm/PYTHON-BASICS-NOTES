{
 "cells": [
  {
   "cell_type": "markdown",
   "id": "63727522",
   "metadata": {},
   "source": [
    "# creating dictionary"
   ]
  },
  {
   "cell_type": "code",
   "execution_count": 11,
   "id": "735478b2",
   "metadata": {},
   "outputs": [
    {
     "name": "stdout",
     "output_type": "stream",
     "text": [
      "{}\n",
      "<class 'dict'>\n"
     ]
    }
   ],
   "source": [
    "#empty dictionary\n",
    "d1={}\n",
    "print(d1)\n",
    "print(type(d1))"
   ]
  },
  {
   "cell_type": "code",
   "execution_count": 12,
   "id": "f5f92341",
   "metadata": {},
   "outputs": [
    {
     "name": "stdout",
     "output_type": "stream",
     "text": [
      "{1: 'welcome', 2: 'to', 3: 'python', 4: 'tutorial'}\n"
     ]
    }
   ],
   "source": [
    "d2={1:'welcome',2:'to',3:'python',4:'tutorial'}\n",
    "print(d2)"
   ]
  },
  {
   "cell_type": "code",
   "execution_count": 13,
   "id": "69dd6278",
   "metadata": {},
   "outputs": [
    {
     "name": "stdout",
     "output_type": "stream",
     "text": [
      "{'name': 'aaghash', 'age': '17', 'profession': 'student'}\n"
     ]
    }
   ],
   "source": [
    "d3={\"name\":'aaghash','age':'17','profession':'student'}\n",
    "print(d3)"
   ]
  },
  {
   "cell_type": "code",
   "execution_count": 14,
   "id": "cee0bfd7",
   "metadata": {},
   "outputs": [
    {
     "name": "stdout",
     "output_type": "stream",
     "text": [
      "{1: 'welcome', 2: 'to', 3: 'python', 4: 'tutorial'}\n"
     ]
    }
   ],
   "source": [
    "d4=dict({1:'welcome',2:'to',3:'python',4:'tutorial'})  #complex,not needed\n",
    "print(d4)"
   ]
  },
  {
   "cell_type": "code",
   "execution_count": 15,
   "id": "ccf8ec94",
   "metadata": {},
   "outputs": [
    {
     "name": "stdout",
     "output_type": "stream",
     "text": [
      "{1: 'aaghash', 2: 'play', 3: 'cricketer'}\n"
     ]
    }
   ],
   "source": [
    "d5=dict([(1,'aaghash'),(2,'play'),(3,'cricketer')])\n",
    "print(d5)"
   ]
  },
  {
   "cell_type": "code",
   "execution_count": 16,
   "id": "445b311d",
   "metadata": {},
   "outputs": [
    {
     "name": "stdout",
     "output_type": "stream",
     "text": [
      "{'name': {'first': 'aaghash', 'last': 'dhoni'}, 'age': '17', 'profession': 'student'}\n"
     ]
    }
   ],
   "source": [
    "d6={\"name\":{'first':'aaghash','last':'dhoni'},'age':'17','profession':'student'}\n",
    "print(d6)"
   ]
  },
  {
   "cell_type": "markdown",
   "id": "b300bfaf",
   "metadata": {},
   "source": [
    "# Adding elements"
   ]
  },
  {
   "cell_type": "code",
   "execution_count": 17,
   "id": "246d31ea",
   "metadata": {},
   "outputs": [
    {
     "name": "stdout",
     "output_type": "stream",
     "text": [
      "{0: 'welcome'}\n"
     ]
    }
   ],
   "source": [
    "d={}\n",
    "d[0]=\"welcome\"\n",
    "print(d)"
   ]
  },
  {
   "cell_type": "code",
   "execution_count": 18,
   "id": "0adf9769",
   "metadata": {},
   "outputs": [
    {
     "name": "stdout",
     "output_type": "stream",
     "text": [
      "{0: 'welcome', 1: ('a', 'b', 'c')}\n"
     ]
    }
   ],
   "source": [
    "d[1]=('a','b','c')\n",
    "print(d)"
   ]
  },
  {
   "cell_type": "code",
   "execution_count": 19,
   "id": "88667130",
   "metadata": {},
   "outputs": [
    {
     "name": "stdout",
     "output_type": "stream",
     "text": [
      "{0: 'welcome', 1: ('a', 'b', 'c'), 'name': 'aaghash'}\n"
     ]
    }
   ],
   "source": [
    "d['name']='aaghash'\n",
    "print(d)"
   ]
  },
  {
   "cell_type": "code",
   "execution_count": 20,
   "id": "1bdb5893",
   "metadata": {},
   "outputs": [
    {
     "name": "stdout",
     "output_type": "stream",
     "text": [
      "{0: 'welcome', 1: ('a', 'b', 'c'), 'name': {'first': 'aaghash', 'last': 'dhoni'}}\n"
     ]
    }
   ],
   "source": [
    "d['name']={\"first\" :\"aaghash\",\"last\":\"dhoni\"} #replacing an element\n",
    "print(d)"
   ]
  },
  {
   "cell_type": "markdown",
   "id": "248ffe52",
   "metadata": {},
   "source": [
    "# Accesing elements"
   ]
  },
  {
   "cell_type": "code",
   "execution_count": 21,
   "id": "7dcbceed",
   "metadata": {},
   "outputs": [
    {
     "name": "stdout",
     "output_type": "stream",
     "text": [
      "{0: 'welcome', 1: ('a', 'b', 'c'), 'name': {'first': 'aaghash', 'last': 'dhoni'}}\n"
     ]
    }
   ],
   "source": [
    "print(d)"
   ]
  },
  {
   "cell_type": "code",
   "execution_count": 22,
   "id": "884de41f",
   "metadata": {},
   "outputs": [
    {
     "name": "stdout",
     "output_type": "stream",
     "text": [
      "{'first': 'aaghash', 'last': 'dhoni'}\n"
     ]
    }
   ],
   "source": [
    "print(d['name'])"
   ]
  },
  {
   "cell_type": "code",
   "execution_count": 23,
   "id": "02701c9b",
   "metadata": {},
   "outputs": [
    {
     "data": {
      "text/plain": [
       "'aaghash'"
      ]
     },
     "execution_count": 23,
     "metadata": {},
     "output_type": "execute_result"
    }
   ],
   "source": [
    "(d[\"name\"][\"first\"])"
   ]
  },
  {
   "cell_type": "code",
   "execution_count": 24,
   "id": "b67ae722",
   "metadata": {},
   "outputs": [
    {
     "data": {
      "text/plain": [
       "('a', 'b', 'c')"
      ]
     },
     "execution_count": 24,
     "metadata": {},
     "output_type": "execute_result"
    }
   ],
   "source": [
    "d.get(1)"
   ]
  },
  {
   "cell_type": "code",
   "execution_count": 25,
   "id": "bc2dd698",
   "metadata": {},
   "outputs": [
    {
     "data": {
      "text/plain": [
       "'welcome'"
      ]
     },
     "execution_count": 25,
     "metadata": {},
     "output_type": "execute_result"
    }
   ],
   "source": [
    "d.get(0)"
   ]
  },
  {
   "cell_type": "markdown",
   "id": "5d918b25",
   "metadata": {},
   "source": [
    "# Deleting elements"
   ]
  },
  {
   "cell_type": "code",
   "execution_count": 26,
   "id": "748a93b7",
   "metadata": {},
   "outputs": [
    {
     "name": "stdout",
     "output_type": "stream",
     "text": [
      "{0: 'welcome', 1: ('a', 'b', 'c'), 'name': {'first': 'aaghash', 'last': 'dhoni'}}\n"
     ]
    }
   ],
   "source": [
    "print(d)"
   ]
  },
  {
   "cell_type": "code",
   "execution_count": 27,
   "id": "c986baf3",
   "metadata": {},
   "outputs": [
    {
     "data": {
      "text/plain": [
       "{'first': 'aaghash', 'last': 'dhoni'}"
      ]
     },
     "execution_count": 27,
     "metadata": {},
     "output_type": "execute_result"
    }
   ],
   "source": [
    "d.pop(\"name\") #deletes name"
   ]
  },
  {
   "cell_type": "code",
   "execution_count": 28,
   "id": "95ec57a5",
   "metadata": {},
   "outputs": [
    {
     "name": "stdout",
     "output_type": "stream",
     "text": [
      "{0: 'welcome', 1: ('a', 'b', 'c')}\n"
     ]
    }
   ],
   "source": [
    "print(d)"
   ]
  },
  {
   "cell_type": "code",
   "execution_count": 29,
   "id": "26d700a5",
   "metadata": {},
   "outputs": [
    {
     "data": {
      "text/plain": [
       "(1, ('a', 'b', 'c'))"
      ]
     },
     "execution_count": 29,
     "metadata": {},
     "output_type": "execute_result"
    }
   ],
   "source": [
    "d.popitem() #deletes the last item"
   ]
  },
  {
   "cell_type": "code",
   "execution_count": 30,
   "id": "ba7eeeb1",
   "metadata": {},
   "outputs": [
    {
     "name": "stdout",
     "output_type": "stream",
     "text": [
      "{0: 'welcome'}\n"
     ]
    }
   ],
   "source": [
    "print(d)"
   ]
  },
  {
   "cell_type": "markdown",
   "id": "34fa953e",
   "metadata": {},
   "source": [
    "# Using built in functions"
   ]
  },
  {
   "cell_type": "code",
   "execution_count": 31,
   "id": "fad49392",
   "metadata": {},
   "outputs": [
    {
     "data": {
      "text/plain": [
       "dict_values(['welcome'])"
      ]
     },
     "execution_count": 31,
     "metadata": {},
     "output_type": "execute_result"
    }
   ],
   "source": [
    "d.values()"
   ]
  },
  {
   "cell_type": "code",
   "execution_count": 32,
   "id": "ab96404a",
   "metadata": {},
   "outputs": [
    {
     "data": {
      "text/plain": [
       "{'a': 1, 'b': 1, 'c': 1, 'd': 1}"
      ]
     },
     "execution_count": 32,
     "metadata": {},
     "output_type": "execute_result"
    }
   ],
   "source": [
    "keys=('a','b','c','d')\n",
    "value=1\n",
    "dict.fromkeys(keys,value)"
   ]
  },
  {
   "cell_type": "code",
   "execution_count": 33,
   "id": "c8e08f90",
   "metadata": {},
   "outputs": [],
   "source": [
    "d.clear()"
   ]
  },
  {
   "cell_type": "code",
   "execution_count": 34,
   "id": "7ee0d965",
   "metadata": {},
   "outputs": [
    {
     "name": "stdout",
     "output_type": "stream",
     "text": [
      "{}\n"
     ]
    }
   ],
   "source": [
    "print(d)"
   ]
  },
  {
   "cell_type": "markdown",
   "id": "e943f5b3",
   "metadata": {},
   "source": [
    "# sets"
   ]
  },
  {
   "cell_type": "code",
   "execution_count": 35,
   "id": "7fdd8155",
   "metadata": {},
   "outputs": [
    {
     "name": "stdout",
     "output_type": "stream",
     "text": [
      "{1, 2, 3, 4}\n"
     ]
    },
    {
     "data": {
      "text/plain": [
       "set"
      ]
     },
     "execution_count": 35,
     "metadata": {},
     "output_type": "execute_result"
    }
   ],
   "source": [
    "s=set([1,2,3,4])\n",
    "print(s)\n",
    "type(s)"
   ]
  },
  {
   "cell_type": "code",
   "execution_count": 36,
   "id": "42fd5d8a",
   "metadata": {},
   "outputs": [],
   "source": [
    "s.add('a') #adding somethingfs="
   ]
  },
  {
   "cell_type": "code",
   "execution_count": 37,
   "id": "c0b388b7",
   "metadata": {},
   "outputs": [
    {
     "name": "stdout",
     "output_type": "stream",
     "text": [
      "{1, 2, 3, 4, 'a'}\n"
     ]
    }
   ],
   "source": [
    "print(s)"
   ]
  },
  {
   "cell_type": "code",
   "execution_count": 38,
   "id": "6ae99046",
   "metadata": {},
   "outputs": [
    {
     "name": "stdout",
     "output_type": "stream",
     "text": [
      "frozenset({1, 2, 3, 4})\n"
     ]
    }
   ],
   "source": [
    "fs=frozenset([1,2,3,4])  #frozen sets are immutable \n",
    "print(fs)"
   ]
  },
  {
   "cell_type": "code",
   "execution_count": 39,
   "id": "b368a600",
   "metadata": {},
   "outputs": [
    {
     "ename": "AttributeError",
     "evalue": "'frozenset' object has no attribute 'add'",
     "output_type": "error",
     "traceback": [
      "\u001b[1;31m---------------------------------------------------------------------------\u001b[0m",
      "\u001b[1;31mAttributeError\u001b[0m                            Traceback (most recent call last)",
      "Input \u001b[1;32mIn [39]\u001b[0m, in \u001b[0;36m<cell line: 1>\u001b[1;34m()\u001b[0m\n\u001b[1;32m----> 1\u001b[0m \u001b[43mfs\u001b[49m\u001b[38;5;241;43m.\u001b[39;49m\u001b[43madd\u001b[49m(\u001b[38;5;124m'\u001b[39m\u001b[38;5;124md\u001b[39m\u001b[38;5;124m'\u001b[39m)\n",
      "\u001b[1;31mAttributeError\u001b[0m: 'frozenset' object has no attribute 'add'"
     ]
    }
   ],
   "source": [
    "fs.add('d')"
   ]
  },
  {
   "cell_type": "code",
   "execution_count": 44,
   "id": "1e2478d1",
   "metadata": {},
   "outputs": [],
   "source": [
    "s1=set([1,3,7,2])\n",
    "s2=set([3,2,8,9])"
   ]
  },
  {
   "cell_type": "code",
   "execution_count": 45,
   "id": "642a08ac",
   "metadata": {},
   "outputs": [
    {
     "data": {
      "text/plain": [
       "{1, 2, 3, 7, 8, 9}"
      ]
     },
     "execution_count": 45,
     "metadata": {},
     "output_type": "execute_result"
    }
   ],
   "source": [
    "s1.union(s2) #union of sets"
   ]
  },
  {
   "cell_type": "code",
   "execution_count": 46,
   "id": "147a1783",
   "metadata": {},
   "outputs": [
    {
     "data": {
      "text/plain": [
       "{1, 7}"
      ]
     },
     "execution_count": 46,
     "metadata": {},
     "output_type": "execute_result"
    }
   ],
   "source": [
    "s1.difference(s2) #intersection of sets"
   ]
  },
  {
   "cell_type": "code",
   "execution_count": null,
   "id": "54088058",
   "metadata": {},
   "outputs": [],
   "source": []
  },
  {
   "cell_type": "code",
   "execution_count": null,
   "id": "8987043f",
   "metadata": {},
   "outputs": [],
   "source": []
  },
  {
   "cell_type": "code",
   "execution_count": null,
   "id": "fbdbc975",
   "metadata": {},
   "outputs": [],
   "source": []
  },
  {
   "cell_type": "code",
   "execution_count": null,
   "id": "b7b9e335",
   "metadata": {},
   "outputs": [],
   "source": []
  },
  {
   "cell_type": "code",
   "execution_count": null,
   "id": "bc4ea3e7",
   "metadata": {},
   "outputs": [],
   "source": []
  }
 ],
 "metadata": {
  "kernelspec": {
   "display_name": "Python 3 (ipykernel)",
   "language": "python",
   "name": "python3"
  },
  "language_info": {
   "codemirror_mode": {
    "name": "ipython",
    "version": 3
   },
   "file_extension": ".py",
   "mimetype": "text/x-python",
   "name": "python",
   "nbconvert_exporter": "python",
   "pygments_lexer": "ipython3",
   "version": "3.9.12"
  }
 },
 "nbformat": 4,
 "nbformat_minor": 5
}
