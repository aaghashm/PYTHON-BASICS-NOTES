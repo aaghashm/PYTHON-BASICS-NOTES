{
 "cells": [
  {
   "cell_type": "code",
   "execution_count": 1,
   "id": "49860576",
   "metadata": {},
   "outputs": [
    {
     "name": "stdout",
     "output_type": "stream",
     "text": [
      "this is outside the if body\n"
     ]
    }
   ],
   "source": [
    "a=20\n",
    "if a>50:\n",
    "    print(\"this is the if body\")  #this line is in body of if\n",
    "print(\"this is outside the if body\")    #this line is statement below if "
   ]
  },
  {
   "cell_type": "code",
   "execution_count": 2,
   "id": "e9cdebdb",
   "metadata": {},
   "outputs": [
    {
     "name": "stdout",
     "output_type": "stream",
     "text": [
      "this is the if body\n",
      "this is outside the if body\n"
     ]
    }
   ],
   "source": [
    "a=60\n",
    "if a>50:\n",
    "    print(\"this is the if body\")\n",
    "print(\"this is outside the if body\")    "
   ]
  },
  {
   "cell_type": "markdown",
   "id": "4d835084",
   "metadata": {},
   "source": [
    "# if else statement"
   ]
  },
  {
   "cell_type": "code",
   "execution_count": 3,
   "id": "a75824e5",
   "metadata": {},
   "outputs": [
    {
     "name": "stdout",
     "output_type": "stream",
     "text": [
      "this is if block\n",
      "the number is even number\n"
     ]
    }
   ],
   "source": [
    "i=20\n",
    "if i%2==0:\n",
    "    print(\"this is if block\")\n",
    "    print(\"the number is even number\")\n",
    "else:\n",
    "    print(\"this is the else block\")\n",
    "    print(\"the number is odd\")\n",
    "    "
   ]
  },
  {
   "cell_type": "code",
   "execution_count": 4,
   "id": "4dfac19c",
   "metadata": {},
   "outputs": [
    {
     "name": "stdout",
     "output_type": "stream",
     "text": [
      "this is the else block\n",
      "the number is odd\n"
     ]
    }
   ],
   "source": [
    "i=23\n",
    "if i%2==0:\n",
    "    print(\"this is if block\")\n",
    "    print(\"the number is even number\")\n",
    "else:\n",
    "    print(\"this is the else block\")\n",
    "    print(\"the number is odd\")"
   ]
  },
  {
   "cell_type": "markdown",
   "id": "4b81bdfc",
   "metadata": {},
   "source": [
    "# Nested if"
   ]
  },
  {
   "cell_type": "code",
   "execution_count": 8,
   "id": "33c6fa26",
   "metadata": {},
   "outputs": [
    {
     "name": "stdout",
     "output_type": "stream",
     "text": [
      "the number is odd less than 25\n"
     ]
    }
   ],
   "source": [
    "c=21\n",
    "if c<25:\n",
    "    if c%2==0:\n",
    "        print(\"the number is even less than 25\")\n",
    "    else:\n",
    "        print(\"the number is odd less than 25\")\n",
    "else:        \n",
    "    print(\"the number is greater than 25\")"
   ]
  },
  {
   "cell_type": "code",
   "execution_count": 9,
   "id": "bb597cd5",
   "metadata": {},
   "outputs": [
    {
     "name": "stdout",
     "output_type": "stream",
     "text": [
      "the number is greater than 25\n"
     ]
    }
   ],
   "source": [
    "c=50\n",
    "if c<25:\n",
    "    if c%2==0:\n",
    "        print(\"the number is even less than 25\")\n",
    "    else:\n",
    "        print(\"the number is odd less than 25\")\n",
    "else:        \n",
    "    print(\"the number is greater than 25\")"
   ]
  },
  {
   "cell_type": "markdown",
   "id": "16dbcfc7",
   "metadata": {},
   "source": [
    "# ELIF STATEMENT"
   ]
  },
  {
   "cell_type": "raw",
   "id": "677971a2",
   "metadata": {},
   "source": [
    "#IF MORE CONDITIONS ARE PRESENT"
   ]
  },
  {
   "cell_type": "code",
   "execution_count": 13,
   "id": "d288c939",
   "metadata": {},
   "outputs": [
    {
     "name": "stdout",
     "output_type": "stream",
     "text": [
      "this is a consonant\n"
     ]
    }
   ],
   "source": [
    "var=\"z\"\n",
    "if var==\"a\":\n",
    "    print(\"this is the vowel a\")\n",
    "elif var==\"e\":    \n",
    "    print(\"this is the vowel e\")\n",
    "elif var==\"i\":\n",
    "    print(\"this is the vowel i\")\n",
    "elif var==\"o\":   \n",
    "    print(\"this is the vowel o\")\n",
    "elif var==\"u\":  \n",
    "    print(\"this is the vowel u\")\n",
    "else:\n",
    "    print(\"this is a consonant\")"
   ]
  },
  {
   "cell_type": "code",
   "execution_count": 14,
   "id": "756151df",
   "metadata": {},
   "outputs": [
    {
     "name": "stdout",
     "output_type": "stream",
     "text": [
      "this is the vowel i\n"
     ]
    }
   ],
   "source": [
    "var=\"i\"\n",
    "if var==\"a\":\n",
    "    print(\"this is the vowel a\")\n",
    "elif var==\"e\":    \n",
    "    print(\"this is the vowel e\")\n",
    "elif var==\"i\":\n",
    "    print(\"this is the vowel i\")\n",
    "elif var==\"o\":   \n",
    "    print(\"this is the vowel o\")\n",
    "elif var==\"u\":  \n",
    "    print(\"this is the vowel u\")\n",
    "else:\n",
    "    print(\"this is a consonant\")"
   ]
  },
  {
   "cell_type": "code",
   "execution_count": null,
   "id": "cde5d0ae",
   "metadata": {},
   "outputs": [],
   "source": []
  }
 ],
 "metadata": {
  "kernelspec": {
   "display_name": "Python 3 (ipykernel)",
   "language": "python",
   "name": "python3"
  },
  "language_info": {
   "codemirror_mode": {
    "name": "ipython",
    "version": 3
   },
   "file_extension": ".py",
   "mimetype": "text/x-python",
   "name": "python",
   "nbconvert_exporter": "python",
   "pygments_lexer": "ipython3",
   "version": "3.9.12"
  }
 },
 "nbformat": 4,
 "nbformat_minor": 5
}
