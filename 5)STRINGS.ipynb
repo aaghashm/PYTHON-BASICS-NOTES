{
 "cells": [
  {
   "cell_type": "code",
   "execution_count": 1,
   "id": "8029dbc8",
   "metadata": {},
   "outputs": [],
   "source": [
    "stg='simply learn'"
   ]
  },
  {
   "cell_type": "code",
   "execution_count": 2,
   "id": "99f2a657",
   "metadata": {},
   "outputs": [
    {
     "name": "stdout",
     "output_type": "stream",
     "text": [
      "simply learn\n"
     ]
    }
   ],
   "source": [
    "print(stg)"
   ]
  },
  {
   "cell_type": "code",
   "execution_count": 5,
   "id": "f6620f32",
   "metadata": {},
   "outputs": [
    {
     "name": "stdout",
     "output_type": "stream",
     "text": [
      "TIM SAID \"I'M BUSY\"\n"
     ]
    }
   ],
   "source": [
    "stg='TIM SAID \"I\\'M BUSY\"'\n",
    "print(stg)                          # \\- this makes the next symbol near it as a part of string"
   ]
  },
  {
   "cell_type": "code",
   "execution_count": 8,
   "id": "ece04d79",
   "metadata": {},
   "outputs": [
    {
     "name": "stdout",
     "output_type": "stream",
     "text": [
      "hey there:\n",
      "welcome to simply learn\n"
     ]
    }
   ],
   "source": [
    "stg=\"hey there:\\nwelcome to simply learn\"\n",
    "print(stg)"
   ]
  },
  {
   "cell_type": "code",
   "execution_count": 9,
   "id": "f1b25e20",
   "metadata": {},
   "outputs": [
    {
     "name": "stdout",
     "output_type": "stream",
     "text": [
      "hey there!\n",
      "use 3quotes if you \n",
      "want to write in multiple lines\n"
     ]
    }
   ],
   "source": [
    "stg='''hey there!\n",
    "use 3quotes if you \n",
    "want to write in multiple lines'''\n",
    "print(stg)"
   ]
  },
  {
   "cell_type": "code",
   "execution_count": 11,
   "id": "fc53266c",
   "metadata": {},
   "outputs": [
    {
     "name": "stdout",
     "output_type": "stream",
     "text": [
      "62\n"
     ]
    }
   ],
   "source": [
    "print(len(stg)) #spaces are counted too!"
   ]
  },
  {
   "cell_type": "code",
   "execution_count": 12,
   "id": "b46e2f0b",
   "metadata": {},
   "outputs": [
    {
     "name": "stdout",
     "output_type": "stream",
     "text": [
      "ey t\n"
     ]
    }
   ],
   "source": [
    "print(stg[1:5])"
   ]
  },
  {
   "cell_type": "code",
   "execution_count": 22,
   "id": "da0e628a",
   "metadata": {},
   "outputs": [
    {
     "name": "stdout",
     "output_type": "stream",
     "text": [
      "lilearn\n"
     ]
    }
   ],
   "source": [
    "print(stg[4:12]) #12 is not included"
   ]
  },
  {
   "cell_type": "code",
   "execution_count": null,
   "id": "510eb3ad",
   "metadata": {},
   "outputs": [],
   "source": []
  },
  {
   "cell_type": "code",
   "execution_count": 23,
   "id": "193b11b7",
   "metadata": {},
   "outputs": [],
   "source": [
    "stg='simplilearn'"
   ]
  },
  {
   "cell_type": "code",
   "execution_count": 24,
   "id": "03499f22",
   "metadata": {},
   "outputs": [
    {
     "name": "stdout",
     "output_type": "stream",
     "text": [
      "s\n",
      "i\n",
      "m\n",
      "p\n",
      "l\n",
      "i\n",
      "l\n",
      "e\n",
      "a\n",
      "r\n",
      "n\n"
     ]
    }
   ],
   "source": [
    "for i in stg:\n",
    "    print(i)"
   ]
  },
  {
   "cell_type": "code",
   "execution_count": 26,
   "id": "b6f4413b",
   "metadata": {},
   "outputs": [
    {
     "name": "stdout",
     "output_type": "stream",
     "text": [
      "smll\n"
     ]
    }
   ],
   "source": [
    "print(stg[0:8:2])"
   ]
  },
  {
   "cell_type": "code",
   "execution_count": null,
   "id": "c8fa74cd",
   "metadata": {},
   "outputs": [],
   "source": [
    "\n",
    "\n"
   ]
  },
  {
   "cell_type": "markdown",
   "id": "938166fb",
   "metadata": {},
   "source": [
    "# print in upper or lower case"
   ]
  },
  {
   "cell_type": "code",
   "execution_count": 46,
   "id": "73d70711",
   "metadata": {},
   "outputs": [],
   "source": [
    "stg=\"welcome to simplilearn\""
   ]
  },
  {
   "cell_type": "code",
   "execution_count": 47,
   "id": "ce810dda",
   "metadata": {},
   "outputs": [
    {
     "name": "stdout",
     "output_type": "stream",
     "text": [
      "WELCOME TO SIMPLILEARN\n"
     ]
    }
   ],
   "source": [
    "print(stg.upper())  #upper"
   ]
  },
  {
   "cell_type": "code",
   "execution_count": 48,
   "id": "121e6af2",
   "metadata": {},
   "outputs": [
    {
     "name": "stdout",
     "output_type": "stream",
     "text": [
      "welcome to simplilearn\n"
     ]
    }
   ],
   "source": [
    "print(stg.lower())"
   ]
  },
  {
   "cell_type": "markdown",
   "id": "5fada63e",
   "metadata": {},
   "source": [
    "# to find first occurence "
   ]
  },
  {
   "cell_type": "code",
   "execution_count": 49,
   "id": "98344a2c",
   "metadata": {},
   "outputs": [],
   "source": [
    "stg = \"welcome to simplilearn\""
   ]
  },
  {
   "cell_type": "code",
   "execution_count": 50,
   "id": "adb1d051",
   "metadata": {},
   "outputs": [
    {
     "name": "stdout",
     "output_type": "stream",
     "text": [
      "11\n"
     ]
    }
   ],
   "source": [
    "print(stg.find('s'))"
   ]
  },
  {
   "cell_type": "code",
   "execution_count": 51,
   "id": "1048e06b",
   "metadata": {},
   "outputs": [
    {
     "name": "stdout",
     "output_type": "stream",
     "text": [
      "11\n"
     ]
    }
   ],
   "source": [
    "print(stg.index('s'))"
   ]
  },
  {
   "cell_type": "markdown",
   "id": "3e1f4bf1",
   "metadata": {},
   "source": [
    "# converting to list or splitting"
   ]
  },
  {
   "cell_type": "code",
   "execution_count": 52,
   "id": "78fac022",
   "metadata": {},
   "outputs": [
    {
     "name": "stdout",
     "output_type": "stream",
     "text": [
      "['welcome', 'to', 'simplilearn']\n"
     ]
    }
   ],
   "source": [
    "print(stg.split(' '))"
   ]
  },
  {
   "cell_type": "code",
   "execution_count": 53,
   "id": "5f3a360f",
   "metadata": {},
   "outputs": [
    {
     "data": {
      "text/plain": [
       "['w',\n",
       " 'e',\n",
       " 'l',\n",
       " 'c',\n",
       " 'o',\n",
       " 'm',\n",
       " 'e',\n",
       " ' ',\n",
       " 't',\n",
       " 'o',\n",
       " ' ',\n",
       " 's',\n",
       " 'i',\n",
       " 'm',\n",
       " 'p',\n",
       " 'l',\n",
       " 'i',\n",
       " 'l',\n",
       " 'e',\n",
       " 'a',\n",
       " 'r',\n",
       " 'n']"
      ]
     },
     "execution_count": 53,
     "metadata": {},
     "output_type": "execute_result"
    }
   ],
   "source": [
    "list(stg)"
   ]
  },
  {
   "cell_type": "code",
   "execution_count": 54,
   "id": "26c98f4b",
   "metadata": {},
   "outputs": [],
   "source": [
    "x=stg.split(\" \") #how to seperate is given in braces"
   ]
  },
  {
   "cell_type": "code",
   "execution_count": 55,
   "id": "9030cd7d",
   "metadata": {},
   "outputs": [
    {
     "name": "stdout",
     "output_type": "stream",
     "text": [
      "['welcome', 'to', 'simplilearn']\n"
     ]
    }
   ],
   "source": [
    "print(x)"
   ]
  },
  {
   "cell_type": "markdown",
   "id": "6193f870",
   "metadata": {},
   "source": [
    "# replace a string"
   ]
  },
  {
   "cell_type": "code",
   "execution_count": 56,
   "id": "3602381c",
   "metadata": {},
   "outputs": [
    {
     "data": {
      "text/plain": [
       "'welcome to python tutorial'"
      ]
     },
     "execution_count": 56,
     "metadata": {},
     "output_type": "execute_result"
    }
   ],
   "source": [
    "stg.replace('simplilearn','python tutorial')"
   ]
  },
  {
   "cell_type": "markdown",
   "id": "01a6ec79",
   "metadata": {},
   "source": [
    "# converting list to tuple"
   ]
  },
  {
   "cell_type": "code",
   "execution_count": 58,
   "id": "f33f2374",
   "metadata": {},
   "outputs": [
    {
     "data": {
      "text/plain": [
       "('welcome', ' to ', 'simplilearn')"
      ]
     },
     "execution_count": 58,
     "metadata": {},
     "output_type": "execute_result"
    }
   ],
   "source": [
    "stg.rpartition(\" to \") #everything before \" to \" will become 1sr element rest will be 3rd"
   ]
  },
  {
   "cell_type": "code",
   "execution_count": 63,
   "id": "cb57f25a",
   "metadata": {},
   "outputs": [
    {
     "data": {
      "text/plain": [
       "('', 'w', 'elcome to simplilearn')"
      ]
     },
     "execution_count": 63,
     "metadata": {},
     "output_type": "execute_result"
    }
   ],
   "source": [
    "stg.rpartition('w')"
   ]
  },
  {
   "cell_type": "markdown",
   "id": "3d2ceb70",
   "metadata": {},
   "source": [
    "# concatenation"
   ]
  },
  {
   "cell_type": "code",
   "execution_count": 68,
   "id": "7b95f926",
   "metadata": {},
   "outputs": [],
   "source": [
    "stg1=\"good\"\n",
    "stg2=\"morning\""
   ]
  },
  {
   "cell_type": "code",
   "execution_count": 70,
   "id": "67ad035e",
   "metadata": {},
   "outputs": [
    {
     "name": "stdout",
     "output_type": "stream",
     "text": [
      "('good morning',)\n"
     ]
    }
   ],
   "source": [
    "stg=stg1+' '+stg2\n",
    "print(stg)"
   ]
  },
  {
   "cell_type": "code",
   "execution_count": 72,
   "id": "1bff9546",
   "metadata": {},
   "outputs": [
    {
     "name": "stdout",
     "output_type": "stream",
     "text": [
      "goodmorning\n"
     ]
    }
   ],
   "source": [
    "stg= stg1+stg2\n",
    "print(stg)"
   ]
  },
  {
   "cell_type": "code",
   "execution_count": 75,
   "id": "e8817feb",
   "metadata": {},
   "outputs": [
    {
     "name": "stdout",
     "output_type": "stream",
     "text": [
      "hey there, all!\n"
     ]
    }
   ],
   "source": [
    "stg1=\"hey\"\n",
    "stg2=\"there\"\n",
    "stg3=\"all\"\n",
    "#print \"hey there, all! \"\n",
    "\n",
    "stg=\"{} {}, {}!\".format(stg1,stg2,stg3) \n",
    "print(stg)"
   ]
  },
  {
   "cell_type": "code",
   "execution_count": null,
   "id": "31ec0f4e",
   "metadata": {},
   "outputs": [],
   "source": []
  }
 ],
 "metadata": {
  "kernelspec": {
   "display_name": "Python 3 (ipykernel)",
   "language": "python",
   "name": "python3"
  },
  "language_info": {
   "codemirror_mode": {
    "name": "ipython",
    "version": 3
   },
   "file_extension": ".py",
   "mimetype": "text/x-python",
   "name": "python",
   "nbconvert_exporter": "python",
   "pygments_lexer": "ipython3",
   "version": "3.9.12"
  }
 },
 "nbformat": 4,
 "nbformat_minor": 5
}
